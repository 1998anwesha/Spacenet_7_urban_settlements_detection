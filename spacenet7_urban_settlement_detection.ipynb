{
  "metadata": {
    "kernelspec": {
      "language": "python",
      "display_name": "Python 3",
      "name": "python3"
    },
    "language_info": {
      "name": "python",
      "version": "3.7.10",
      "mimetype": "text/x-python",
      "codemirror_mode": {
        "name": "ipython",
        "version": 3
      },
      "pygments_lexer": "ipython3",
      "nbconvert_exporter": "python",
      "file_extension": ".py"
    },
    "colab": {
      "provenance": []
    }
  },
  "nbformat_minor": 0,
  "nbformat": 4,
  "cells": [
    {
      "cell_type": "code",
      "source": [
        "! pip install --upgrade rasterio\n",
        "! pip install -U git+https://github.com/qubvel/segmentation_models.pytorch\n"
      ],
      "metadata": {
        "_uuid": "8f2839f25d086af736a60e9eeb907d3b93b6e0e5",
        "_cell_guid": "b1076dfc-b9ad-4769-8c92-a6c4dae69d19",
        "execution": {
          "iopub.status.busy": "2021-08-27T23:20:16.035131Z",
          "iopub.execute_input": "2021-08-27T23:20:16.035542Z",
          "iopub.status.idle": "2021-08-27T23:20:37.310594Z",
          "shell.execute_reply.started": "2021-08-27T23:20:16.035462Z",
          "shell.execute_reply": "2021-08-27T23:20:37.309651Z"
        },
        "trusted": true,
        "id": "27suvAFLOmcr",
        "outputId": "bec740ae-3074-4f87-e9fe-c59a99193c51"
      },
      "execution_count": null,
      "outputs": [
        {
          "name": "stdout",
          "text": "Requirement already satisfied: rasterio in /opt/conda/lib/python3.7/site-packages (1.2.6)\nRequirement already satisfied: click-plugins in /opt/conda/lib/python3.7/site-packages (from rasterio) (1.1.1)\nRequirement already satisfied: click>=4.0 in /opt/conda/lib/python3.7/site-packages (from rasterio) (7.1.2)\nRequirement already satisfied: cligj>=0.5 in /opt/conda/lib/python3.7/site-packages (from rasterio) (0.7.2)\nRequirement already satisfied: numpy in /opt/conda/lib/python3.7/site-packages (from rasterio) (1.19.5)\nRequirement already satisfied: snuggs>=1.4.1 in /opt/conda/lib/python3.7/site-packages (from rasterio) (1.4.7)\nRequirement already satisfied: certifi in /opt/conda/lib/python3.7/site-packages (from rasterio) (2021.5.30)\nRequirement already satisfied: setuptools in /opt/conda/lib/python3.7/site-packages (from rasterio) (49.6.0.post20210108)\nRequirement already satisfied: affine in /opt/conda/lib/python3.7/site-packages (from rasterio) (2.3.0)\nRequirement already satisfied: attrs in /opt/conda/lib/python3.7/site-packages (from rasterio) (21.2.0)\nRequirement already satisfied: pyparsing>=2.1.6 in /opt/conda/lib/python3.7/site-packages (from snuggs>=1.4.1->rasterio) (2.4.7)\n\u001b[33mWARNING: Running pip as root will break packages and permissions. You should install packages reliably by using venv: https://pip.pypa.io/warnings/venv\u001b[0m\nCollecting git+https://github.com/qubvel/segmentation_models.pytorch\n  Cloning https://github.com/qubvel/segmentation_models.pytorch to /tmp/pip-req-build-ow6p1259\n  Running command git clone -q https://github.com/qubvel/segmentation_models.pytorch /tmp/pip-req-build-ow6p1259\nRequirement already satisfied: torchvision>=0.5.0 in /opt/conda/lib/python3.7/site-packages (from segmentation-models-pytorch==0.2.0) (0.8.1)\nCollecting pretrainedmodels==0.7.4\n  Downloading pretrainedmodels-0.7.4.tar.gz (58 kB)\n\u001b[K     |████████████████████████████████| 58 kB 795 kB/s eta 0:00:01\n\u001b[?25hCollecting efficientnet-pytorch==0.6.3\n  Downloading efficientnet_pytorch-0.6.3.tar.gz (16 kB)\nCollecting timm==0.4.12\n  Downloading timm-0.4.12-py3-none-any.whl (376 kB)\n\u001b[K     |████████████████████████████████| 376 kB 1.7 MB/s eta 0:00:01\n\u001b[?25hRequirement already satisfied: torch in /opt/conda/lib/python3.7/site-packages (from efficientnet-pytorch==0.6.3->segmentation-models-pytorch==0.2.0) (1.7.0)\nRequirement already satisfied: munch in /opt/conda/lib/python3.7/site-packages (from pretrainedmodels==0.7.4->segmentation-models-pytorch==0.2.0) (2.5.0)\nRequirement already satisfied: tqdm in /opt/conda/lib/python3.7/site-packages (from pretrainedmodels==0.7.4->segmentation-models-pytorch==0.2.0) (4.61.1)\nRequirement already satisfied: future in /opt/conda/lib/python3.7/site-packages (from torch->efficientnet-pytorch==0.6.3->segmentation-models-pytorch==0.2.0) (0.18.2)\nRequirement already satisfied: typing_extensions in /opt/conda/lib/python3.7/site-packages (from torch->efficientnet-pytorch==0.6.3->segmentation-models-pytorch==0.2.0) (3.7.4.3)\nRequirement already satisfied: dataclasses in /opt/conda/lib/python3.7/site-packages (from torch->efficientnet-pytorch==0.6.3->segmentation-models-pytorch==0.2.0) (0.6)\nRequirement already satisfied: numpy in /opt/conda/lib/python3.7/site-packages (from torch->efficientnet-pytorch==0.6.3->segmentation-models-pytorch==0.2.0) (1.19.5)\nRequirement already satisfied: pillow>=4.1.1 in /opt/conda/lib/python3.7/site-packages (from torchvision>=0.5.0->segmentation-models-pytorch==0.2.0) (8.2.0)\nRequirement already satisfied: six in /opt/conda/lib/python3.7/site-packages (from munch->pretrainedmodels==0.7.4->segmentation-models-pytorch==0.2.0) (1.15.0)\nBuilding wheels for collected packages: segmentation-models-pytorch, efficientnet-pytorch, pretrainedmodels\n  Building wheel for segmentation-models-pytorch (setup.py) ... \u001b[?25ldone\n\u001b[?25h  Created wheel for segmentation-models-pytorch: filename=segmentation_models_pytorch-0.2.0-py3-none-any.whl size=88664 sha256=0ff360d4b0f3ee6d47f90fb724a210841ced0fa0a5e091f610d004d7c260cdf5\n  Stored in directory: /tmp/pip-ephem-wheel-cache-7nu5ho1r/wheels/fa/c5/a8/1e8af6cb04a0974db8a4a156ebd2fdd1d99ad2558d3fce49d4\n  Building wheel for efficientnet-pytorch (setup.py) ... \u001b[?25ldone\n\u001b[?25h  Created wheel for efficientnet-pytorch: filename=efficientnet_pytorch-0.6.3-py3-none-any.whl size=12419 sha256=aedd5cad3b64ab02b9146e51fd3ad49aecc399f471276583bd11222dbde6f6c6\n  Stored in directory: /root/.cache/pip/wheels/90/6b/0c/f0ad36d00310e65390b0d4c9218ae6250ac579c92540c9097a\n  Building wheel for pretrainedmodels (setup.py) ... \u001b[?25ldone\n\u001b[?25h  Created wheel for pretrainedmodels: filename=pretrainedmodels-0.7.4-py3-none-any.whl size=60963 sha256=aeeaefd9fb9546ddbb35769d6282a95df553252de43b96053b2970ae99492219\n  Stored in directory: /root/.cache/pip/wheels/ed/27/e8/9543d42de2740d3544db96aefef63bda3f2c1761b3334f4873\nSuccessfully built segmentation-models-pytorch efficientnet-pytorch pretrainedmodels\nInstalling collected packages: timm, pretrainedmodels, efficientnet-pytorch, segmentation-models-pytorch\nSuccessfully installed efficientnet-pytorch-0.6.3 pretrainedmodels-0.7.4 segmentation-models-pytorch-0.2.0 timm-0.4.12\n\u001b[33mWARNING: Running pip as root will break packages and permissions. You should install packages reliably by using venv: https://pip.pypa.io/warnings/venv\u001b[0m\n",
          "output_type": "stream"
        }
      ]
    },
    {
      "cell_type": "code",
      "source": [
        "import numpy as np # linear algebra\n",
        "import pandas as pd # data processing, CSV file I/O (e.g. pd.read_csv)\n",
        "import matplotlib.pyplot as plt # image plotting\n",
        "import matplotlib\n",
        "matplotlib.rcParams['figure.dpi'] = 300 #increase plot resolution\n",
        "\n",
        "#Raster data handling\n",
        "from PIL import Image\n",
        "import skimage\n",
        "from skimage import io, transform\n",
        "import rasterio as rio # geo-oriented plotting library\n",
        "from rasterio import features\n",
        "import cv2\n",
        "\n",
        "#PyTorch\n",
        "import torch\n",
        "from torch.utils.data import Dataset, DataLoader, Sampler # custom dataset handling\n",
        "import torch.autograd.profiler as profiler # to track model inference and detect leaks\n",
        "from torchvision import transforms, utils\n",
        "from torch.autograd import Variable\n",
        "from torch import nn\n",
        "from torch.nn.modules.padding import ReplicationPad2d\n",
        "import torchvision.models as models\n",
        "from torch import optim\n",
        "from collections import OrderedDict\n",
        "import segmentation_models_pytorch as smp #semantic segmentation models and utils\n",
        "from torch.cuda.amp import GradScaler\n",
        "from torch.cuda.amp import autocast\n",
        "\n",
        "#Augmentations\n",
        "import albumentations as alb\n",
        "from albumentations.pytorch import ToTensorV2\n",
        "\n",
        "#Logging errors and progress, sending them to tg-bot\n",
        "import requests\n",
        "import traceback\n",
        "\n",
        "#Other\n",
        "from pathlib import Path # to have path strings as PosixPath objexts\n",
        "import pathlib\n",
        "from pyproj import CRS\n",
        "import geopandas as gpd # to make dataframes out of geojson files\n",
        "import itertools\n",
        "import re\n",
        "from tqdm.notebook import tqdm\n",
        "tqdm.pandas()\n",
        "import os\n",
        "import gc\n",
        "from timeit import default_timer as time\n",
        "import copy\n",
        "import json\n",
        "import logging\n",
        "import datetime\n",
        "\n",
        "\n"
      ],
      "metadata": {
        "execution": {
          "iopub.status.busy": "2021-08-27T23:20:37.314124Z",
          "iopub.execute_input": "2021-08-27T23:20:37.314403Z",
          "iopub.status.idle": "2021-08-27T23:20:43.261212Z",
          "shell.execute_reply.started": "2021-08-27T23:20:37.314373Z",
          "shell.execute_reply": "2021-08-27T23:20:43.260263Z"
        },
        "trusted": true,
        "id": "q5WfMi0qOmcu"
      },
      "execution_count": null,
      "outputs": []
    },
    {
      "cell_type": "code",
      "source": [
        "from descartes import PolygonPatch"
      ],
      "metadata": {
        "execution": {
          "iopub.status.busy": "2021-08-27T23:20:43.263462Z",
          "iopub.execute_input": "2021-08-27T23:20:43.263820Z",
          "iopub.status.idle": "2021-08-27T23:20:43.271126Z",
          "shell.execute_reply.started": "2021-08-27T23:20:43.263783Z",
          "shell.execute_reply": "2021-08-27T23:20:43.270378Z"
        },
        "trusted": true,
        "id": "XeHlAMnuOmcv"
      },
      "execution_count": null,
      "outputs": []
    },
    {
      "cell_type": "code",
      "source": [
        "import warnings\n",
        "warnings.filterwarnings(\"ignore\")"
      ],
      "metadata": {
        "execution": {
          "iopub.status.busy": "2021-08-27T23:20:43.272941Z",
          "iopub.execute_input": "2021-08-27T23:20:43.273281Z",
          "iopub.status.idle": "2021-08-27T23:20:43.278652Z",
          "shell.execute_reply.started": "2021-08-27T23:20:43.273245Z",
          "shell.execute_reply": "2021-08-27T23:20:43.277689Z"
        },
        "trusted": true,
        "id": "H8WoELDrOmcw"
      },
      "execution_count": null,
      "outputs": []
    },
    {
      "cell_type": "code",
      "source": [
        "gc.collect()"
      ],
      "metadata": {
        "execution": {
          "iopub.status.busy": "2021-08-27T23:20:43.279971Z",
          "iopub.execute_input": "2021-08-27T23:20:43.280419Z",
          "iopub.status.idle": "2021-08-27T23:20:43.440801Z",
          "shell.execute_reply.started": "2021-08-27T23:20:43.280282Z",
          "shell.execute_reply": "2021-08-27T23:20:43.439853Z"
        },
        "trusted": true,
        "id": "S4Em7rQ6Omcw",
        "outputId": "ede7015e-c591-409c-89e6-f2385276767f"
      },
      "execution_count": null,
      "outputs": [
        {
          "execution_count": 5,
          "output_type": "execute_result",
          "data": {
            "text/plain": "81"
          },
          "metadata": {}
        }
      ]
    },
    {
      "cell_type": "code",
      "source": [
        "root_folder = '../input/spacenet-7-change-detection-chips-and-masks/chip_dataset/chip_dataset/change_detection/'\n",
        "csv_path = '../input/spacenet-7-change-detection-chips-and-masks/annotations.csv'\n",
        "\n",
        "BATCH_SIZE = 64\n",
        "NUM_WORKERS = 8"
      ],
      "metadata": {
        "execution": {
          "iopub.status.busy": "2021-08-27T23:20:43.442218Z",
          "iopub.execute_input": "2021-08-27T23:20:43.442688Z",
          "iopub.status.idle": "2021-08-27T23:20:43.449541Z",
          "shell.execute_reply.started": "2021-08-27T23:20:43.442648Z",
          "shell.execute_reply": "2021-08-27T23:20:43.448688Z"
        },
        "trusted": true,
        "id": "BfSYpEj5Omcw"
      },
      "execution_count": null,
      "outputs": []
    },
    {
      "cell_type": "code",
      "source": [
        "df = pd.read_csv(csv_path)\n",
        "df.sample(5)"
      ],
      "metadata": {
        "execution": {
          "iopub.status.busy": "2021-08-27T23:20:43.450779Z",
          "iopub.execute_input": "2021-08-27T23:20:43.451150Z",
          "iopub.status.idle": "2021-08-27T23:21:09.303976Z",
          "shell.execute_reply.started": "2021-08-27T23:20:43.451113Z",
          "shell.execute_reply": "2021-08-27T23:21:09.303148Z"
        },
        "trusted": true,
        "id": "AuHpqZBhOmcw",
        "outputId": "dd1b7f80-4f75-4418-a5d3-2368d412069a"
      },
      "execution_count": null,
      "outputs": [
        {
          "execution_count": 7,
          "output_type": "execute_result",
          "data": {
            "text/plain": "                                                 chip_path  \\\n1207614  L15-1014E-1375N_4056_2688_13/chips/2018_5_2019...   \n1835506  L15-0924E-1108N_3699_3757_13/chips/2019_5_2018...   \n209373   L15-1204E-1202N_4816_3380_13/chips/2018_4_2018...   \n1204476  L15-1014E-1375N_4056_2688_13/chips/2018_1_2018...   \n1303122  L15-1709E-1112N_6838_3742_13/chips/2018_6_2019...   \n\n                                                 mask_path  target  \\\n1207614  L15-1014E-1375N_4056_2688_13/masks/2018_5_2019...       1   \n1835506  L15-0924E-1108N_3699_3757_13/masks/2019_5_2018...       1   \n209373   L15-1204E-1202N_4816_3380_13/masks/2018_4_2018...       0   \n1204476  L15-1014E-1375N_4056_2688_13/masks/2018_1_2018...       0   \n1303122  L15-1709E-1112N_6838_3742_13/masks/2018_6_2019...       0   \n\n                                                     fname        im_dates  \\\n1207614  global_monthly_2018_5_2019_12_chip_x640_y640_L...  2018_5_2019_12   \n1835506  global_monthly_2019_5_2018_5_chip_x64_y64_L15-...   2019_5_2018_5   \n209373   global_monthly_2018_4_2018_9_chip_x768_y960_L1...   2018_4_2018_9   \n1204476  global_monthly_2018_1_2018_8_chip_x960_y576_L1...   2018_1_2018_8   \n1303122  global_monthly_2018_6_2019_10_chip_x128_y64_L1...  2018_6_2019_10   \n\n         year1  month1  year2  month2    x    y                       im_name  \\\n1207614   2018       5   2019      12  640  640  L15-1014E-1375N_4056_2688_13   \n1835506   2019       5   2018       5   64   64  L15-0924E-1108N_3699_3757_13   \n209373    2018       4   2018       9  768  960  L15-1204E-1202N_4816_3380_13   \n1204476   2018       1   2018       8  960  576  L15-1014E-1375N_4056_2688_13   \n1303122   2018       6   2019      10  128   64  L15-1709E-1112N_6838_3742_13   \n\n        is_blank  \n1207614      NaN  \n1835506      NaN  \n209373     blank  \n1204476    blank  \n1303122    blank  ",
            "text/html": "<div>\n<style scoped>\n    .dataframe tbody tr th:only-of-type {\n        vertical-align: middle;\n    }\n\n    .dataframe tbody tr th {\n        vertical-align: top;\n    }\n\n    .dataframe thead th {\n        text-align: right;\n    }\n</style>\n<table border=\"1\" class=\"dataframe\">\n  <thead>\n    <tr style=\"text-align: right;\">\n      <th></th>\n      <th>chip_path</th>\n      <th>mask_path</th>\n      <th>target</th>\n      <th>fname</th>\n      <th>im_dates</th>\n      <th>year1</th>\n      <th>month1</th>\n      <th>year2</th>\n      <th>month2</th>\n      <th>x</th>\n      <th>y</th>\n      <th>im_name</th>\n      <th>is_blank</th>\n    </tr>\n  </thead>\n  <tbody>\n    <tr>\n      <th>1207614</th>\n      <td>L15-1014E-1375N_4056_2688_13/chips/2018_5_2019...</td>\n      <td>L15-1014E-1375N_4056_2688_13/masks/2018_5_2019...</td>\n      <td>1</td>\n      <td>global_monthly_2018_5_2019_12_chip_x640_y640_L...</td>\n      <td>2018_5_2019_12</td>\n      <td>2018</td>\n      <td>5</td>\n      <td>2019</td>\n      <td>12</td>\n      <td>640</td>\n      <td>640</td>\n      <td>L15-1014E-1375N_4056_2688_13</td>\n      <td>NaN</td>\n    </tr>\n    <tr>\n      <th>1835506</th>\n      <td>L15-0924E-1108N_3699_3757_13/chips/2019_5_2018...</td>\n      <td>L15-0924E-1108N_3699_3757_13/masks/2019_5_2018...</td>\n      <td>1</td>\n      <td>global_monthly_2019_5_2018_5_chip_x64_y64_L15-...</td>\n      <td>2019_5_2018_5</td>\n      <td>2019</td>\n      <td>5</td>\n      <td>2018</td>\n      <td>5</td>\n      <td>64</td>\n      <td>64</td>\n      <td>L15-0924E-1108N_3699_3757_13</td>\n      <td>NaN</td>\n    </tr>\n    <tr>\n      <th>209373</th>\n      <td>L15-1204E-1202N_4816_3380_13/chips/2018_4_2018...</td>\n      <td>L15-1204E-1202N_4816_3380_13/masks/2018_4_2018...</td>\n      <td>0</td>\n      <td>global_monthly_2018_4_2018_9_chip_x768_y960_L1...</td>\n      <td>2018_4_2018_9</td>\n      <td>2018</td>\n      <td>4</td>\n      <td>2018</td>\n      <td>9</td>\n      <td>768</td>\n      <td>960</td>\n      <td>L15-1204E-1202N_4816_3380_13</td>\n      <td>blank</td>\n    </tr>\n    <tr>\n      <th>1204476</th>\n      <td>L15-1014E-1375N_4056_2688_13/chips/2018_1_2018...</td>\n      <td>L15-1014E-1375N_4056_2688_13/masks/2018_1_2018...</td>\n      <td>0</td>\n      <td>global_monthly_2018_1_2018_8_chip_x960_y576_L1...</td>\n      <td>2018_1_2018_8</td>\n      <td>2018</td>\n      <td>1</td>\n      <td>2018</td>\n      <td>8</td>\n      <td>960</td>\n      <td>576</td>\n      <td>L15-1014E-1375N_4056_2688_13</td>\n      <td>blank</td>\n    </tr>\n    <tr>\n      <th>1303122</th>\n      <td>L15-1709E-1112N_6838_3742_13/chips/2018_6_2019...</td>\n      <td>L15-1709E-1112N_6838_3742_13/masks/2018_6_2019...</td>\n      <td>0</td>\n      <td>global_monthly_2018_6_2019_10_chip_x128_y64_L1...</td>\n      <td>2018_6_2019_10</td>\n      <td>2018</td>\n      <td>6</td>\n      <td>2019</td>\n      <td>10</td>\n      <td>128</td>\n      <td>64</td>\n      <td>L15-1709E-1112N_6838_3742_13</td>\n      <td>blank</td>\n    </tr>\n  </tbody>\n</table>\n</div>"
          },
          "metadata": {}
        }
      ]
    },
    {
      "cell_type": "code",
      "source": [
        "df.target.mean()"
      ],
      "metadata": {
        "execution": {
          "iopub.status.busy": "2021-08-27T23:21:09.306841Z",
          "iopub.execute_input": "2021-08-27T23:21:09.307141Z",
          "iopub.status.idle": "2021-08-27T23:21:09.318918Z",
          "shell.execute_reply.started": "2021-08-27T23:21:09.307111Z",
          "shell.execute_reply": "2021-08-27T23:21:09.317930Z"
        },
        "trusted": true,
        "id": "1JpCySeZOmcx",
        "outputId": "a6b9953d-fe94-464e-e413-d2477169970e"
      },
      "execution_count": null,
      "outputs": [
        {
          "execution_count": 8,
          "output_type": "execute_result",
          "data": {
            "text/plain": "0.17641241530490234"
          },
          "metadata": {}
        }
      ]
    },
    {
      "cell_type": "code",
      "source": [
        "df[df.target == 0].is_blank.value_counts()"
      ],
      "metadata": {
        "execution": {
          "iopub.status.busy": "2021-08-27T23:21:09.321117Z",
          "iopub.execute_input": "2021-08-27T23:21:09.321483Z",
          "iopub.status.idle": "2021-08-27T23:21:10.354248Z",
          "shell.execute_reply.started": "2021-08-27T23:21:09.321447Z",
          "shell.execute_reply": "2021-08-27T23:21:10.353462Z"
        },
        "trusted": true,
        "id": "gvSoCrwGOmcx",
        "outputId": "dde34902-6987-430c-86a9-aef6531aa2d6"
      },
      "execution_count": null,
      "outputs": [
        {
          "execution_count": 9,
          "output_type": "execute_result",
          "data": {
            "text/plain": "blank    2644968\nName: is_blank, dtype: int64"
          },
          "metadata": {}
        }
      ]
    },
    {
      "cell_type": "code",
      "source": [
        "aoi = df['im_name'].unique()\n",
        "len(aoi)"
      ],
      "metadata": {
        "execution": {
          "iopub.status.busy": "2021-08-27T23:21:10.355611Z",
          "iopub.execute_input": "2021-08-27T23:21:10.355944Z",
          "iopub.status.idle": "2021-08-27T23:21:10.636835Z",
          "shell.execute_reply.started": "2021-08-27T23:21:10.355908Z",
          "shell.execute_reply": "2021-08-27T23:21:10.635888Z"
        },
        "trusted": true,
        "id": "Aho6tMRwOmcx",
        "outputId": "3e9f21fb-23b4-4e77-9cac-d1e5d7266390"
      },
      "execution_count": null,
      "outputs": [
        {
          "execution_count": 10,
          "output_type": "execute_result",
          "data": {
            "text/plain": "60"
          },
          "metadata": {}
        }
      ]
    },
    {
      "cell_type": "code",
      "source": [
        "train_aoi = aoi[:40]\n",
        "test_aoi = aoi[-20:-10]\n",
        "valid_aoi = aoi[-10:]"
      ],
      "metadata": {
        "execution": {
          "iopub.status.busy": "2021-08-27T23:21:10.638062Z",
          "iopub.execute_input": "2021-08-27T23:21:10.638424Z",
          "iopub.status.idle": "2021-08-27T23:21:10.642888Z",
          "shell.execute_reply.started": "2021-08-27T23:21:10.638386Z",
          "shell.execute_reply": "2021-08-27T23:21:10.641796Z"
        },
        "trusted": true,
        "id": "TAxQvNYIOmcy"
      },
      "execution_count": null,
      "outputs": []
    },
    {
      "cell_type": "code",
      "source": [
        "def choose_aoi(df, names):\n",
        "    mask = df['im_name'].map(lambda x: x in names)\n",
        "    return df[mask].reset_index(drop=True)\n",
        "\n",
        "df_dict = {'train' : choose_aoi(df, train_aoi),\n",
        "          'test' : choose_aoi(df, test_aoi),\n",
        "          'valid' : choose_aoi(df, valid_aoi)\n",
        "          }\n",
        "\n",
        "del(df)"
      ],
      "metadata": {
        "execution": {
          "iopub.status.busy": "2021-08-27T23:21:10.644370Z",
          "iopub.execute_input": "2021-08-27T23:21:10.644767Z",
          "iopub.status.idle": "2021-08-27T23:22:30.544751Z",
          "shell.execute_reply.started": "2021-08-27T23:21:10.644720Z",
          "shell.execute_reply": "2021-08-27T23:22:30.543863Z"
        },
        "trusted": true,
        "id": "JTAqTQfCOmcy"
      },
      "execution_count": null,
      "outputs": []
    },
    {
      "cell_type": "code",
      "source": [
        "class TorchDataset(Dataset):\n",
        "    \"\"\"Dataset class\n",
        "    Args:\n",
        "        root_folder: Path object, root directory of picture dataset\n",
        "        csv: pandas.DataFrame, untidy df with all data relationships\n",
        "        aug: albumentations dictionary\n",
        "        preproc: callable, preprocessing function related to specific encoder\n",
        "        grayscale: boolean, preprocessing condition to grayscale colored rasters\n",
        "    Return:\n",
        "        image, mask tensors\"\"\"\n",
        "\n",
        "    def __init__(self, root_folder, df, aug = None, preproc = None, grayscale = True):\n",
        "        self.root_folder = root_folder\n",
        "        self.csv = df\n",
        "        self.aug = aug\n",
        "        self.preproc = preproc\n",
        "        self.grayscale = grayscale\n",
        "\n",
        "    def __len__(self):\n",
        "        return len(self.csv)\n",
        "\n",
        "    def __getitem__(self, idx):\n",
        "        if torch.is_tensor(idx):\n",
        "            idx = idx.tolist()\n",
        "        chip_path = self.root_folder + self.csv.loc[idx,'chip_path']\n",
        "        # read chip into numpy array\n",
        "        chip = skimage.io.imread(root_folder + self.csv.loc[idx,'chip_path']).astype('float32')\n",
        "        if self.grayscale:\n",
        "            gray1 = np.dot(chip[:,:,0:3], [0.2989, 0.5870, 0.1140])\n",
        "            gray2 = np.dot(chip[:,:,3:], [0.2989, 0.5870, 0.1140])\n",
        "            chip = np.divide(np.stack((gray1, gray2),axis = 2),255).astype('float32')\n",
        "        # get target for corresponding chip\n",
        "        mask = np.abs(np.divide(skimage.io.imread(root_folder + self.csv.loc[idx,'mask_path']),255)).astype('float32')\n",
        "        # apply augmentations\n",
        "        if self.aug:\n",
        "            sample = self.aug(image=chip, mask=mask)\n",
        "            image, mask = sample['image'], sample['mask']\n",
        "            mask = mask.unsqueeze(0)\n",
        "            if self.grayscale:\n",
        "                sample = {'I1':image[0,:,:].unsqueeze(0),'I2':image[1,:,:].unsqueeze(0), 'label':mask}\n",
        "            else:\n",
        "                sample = {'I1':image[0:3,:,:],'I2':image[3:,:,:], 'label':mask}\n",
        "            del(image,mask,chip,gray1,gray2)\n",
        "            return sample\n",
        "        else:\n",
        "            image = torch.Tensor(np.moveaxis(chip, 2, 0))\n",
        "            mask = torch.Tensor(mask).unsqueeze(0)\n",
        "            if self.grayscale:\n",
        "                sample = {'I1':image[0,:,:].unsqueeze(0),'I2':image[1,:,:].unsqueeze(0), 'label':mask}\n",
        "            else:\n",
        "                sample = {'I1':image[0:3,:,:],'I2':image[3:,:,:], 'label':mask}\n",
        "            del(mask,chip,gray1,gray2)\n",
        "            return sample\n",
        "\n",
        "\n",
        "\n",
        "\n",
        "\n",
        "\n",
        "class BalancedSampler(Sampler):\n",
        "    \"\"\"Balancer for torch.DataLoader to adjust chips loading\"\"\"\n",
        "\n",
        "    def __init__(self, dataset, percentage = 0.5):\n",
        "        \"\"\"\n",
        "        dataset: custom torch dataset\n",
        "        percentage: float number between 0 and 1, percentage of change containing pictures in batch\n",
        "        \"\"\"\n",
        "        assert 0 <= percentage <= 1,'percentage must be a value between 0 and 1'\n",
        "\n",
        "        self.dataset = dataset\n",
        "        self.pct = percentage\n",
        "        self.len_ = len(dataset)\n",
        "\n",
        "    def __len__(self):\n",
        "        return self.len_\n",
        "\n",
        "    def __iter__(self):\n",
        "        # get indices for chips containing change and blank ones\n",
        "        change_chip_idxs = np.where(self.dataset.csv['target'] == 1)[0]\n",
        "        blank_chip_idxs = np.where(self.dataset.csv['target'] == 0)[0]\n",
        "        # randomly sample from the incides of each class according to percentage value\n",
        "        change_chip_idxs = np.random.choice(change_chip_idxs,int(self.len_ * self.pct), replace=True)\n",
        "        blank_chip_idxs = np.random.choice(blank_chip_idxs,int(self.len_ * (1 - self.pct))+1, replace=False)\n",
        "        # stack and shuffle of sampled indices\n",
        "        all_idxs = np.hstack([change_chip_idxs,blank_chip_idxs])\n",
        "        np.random.shuffle(all_idxs)\n",
        "        return iter(all_idxs)"
      ],
      "metadata": {
        "execution": {
          "iopub.status.busy": "2021-08-27T23:22:30.546162Z",
          "iopub.execute_input": "2021-08-27T23:22:30.546512Z",
          "iopub.status.idle": "2021-08-27T23:22:30.566398Z",
          "shell.execute_reply.started": "2021-08-27T23:22:30.546477Z",
          "shell.execute_reply": "2021-08-27T23:22:30.564512Z"
        },
        "trusted": true,
        "id": "8DNvCcKoOmcy"
      },
      "execution_count": null,
      "outputs": []
    },
    {
      "cell_type": "code",
      "source": [
        "chip_dimension = 64\n",
        "augs = {\n",
        "    'train': alb.Compose([\n",
        "        alb.PadIfNeeded(min_height=chip_dimension,min_width=chip_dimension,value=0,p=1),\n",
        "        alb.HorizontalFlip(p=0.5),\n",
        "        alb.VerticalFlip(p=0.5),\n",
        "        ToTensorV2() #apparently doesn't work properly with smp Unet, included in get_preprocessing function\n",
        "    ]),\n",
        "    'test': alb.Compose([\n",
        "        alb.PadIfNeeded(min_height=chip_dimension,min_width=chip_dimension,value=0,p=1),\n",
        "        ToTensorV2()\n",
        "    ]),\n",
        "    'valid': alb.Compose([\n",
        "        alb.PadIfNeeded(min_height=chip_dimension,min_width=chip_dimension,value=0,p=1),\n",
        "        ToTensorV2()\n",
        "    ]),\n",
        "}"
      ],
      "metadata": {
        "execution": {
          "iopub.status.busy": "2021-08-27T23:22:30.567840Z",
          "iopub.execute_input": "2021-08-27T23:22:30.568223Z",
          "iopub.status.idle": "2021-08-27T23:22:30.581927Z",
          "shell.execute_reply.started": "2021-08-27T23:22:30.568187Z",
          "shell.execute_reply": "2021-08-27T23:22:30.581056Z"
        },
        "trusted": true,
        "id": "M5IgIg12Omcz"
      },
      "execution_count": null,
      "outputs": []
    },
    {
      "cell_type": "code",
      "source": [
        "augs['train']"
      ],
      "metadata": {
        "execution": {
          "iopub.status.busy": "2021-08-27T23:22:30.583190Z",
          "iopub.execute_input": "2021-08-27T23:22:30.583554Z",
          "iopub.status.idle": "2021-08-27T23:22:30.600296Z",
          "shell.execute_reply.started": "2021-08-27T23:22:30.583521Z",
          "shell.execute_reply": "2021-08-27T23:22:30.599572Z"
        },
        "trusted": true,
        "id": "jqwlxx9ROmcz",
        "outputId": "cf13959c-b928-4888-81d5-10a885042781"
      },
      "execution_count": null,
      "outputs": [
        {
          "execution_count": 15,
          "output_type": "execute_result",
          "data": {
            "text/plain": "Compose([\n  PadIfNeeded(always_apply=False, p=1, min_height=64, min_width=64, pad_height_divisor=None, pad_width_divisor=None, border_mode=4, value=0, mask_value=None),\n  HorizontalFlip(always_apply=False, p=0.5),\n  VerticalFlip(always_apply=False, p=0.5),\n  ToTensorV2(always_apply=True, p=1.0, transpose_mask=False),\n], p=1.0, bbox_params=None, keypoint_params=None, additional_targets={})"
          },
          "metadata": {}
        }
      ]
    },
    {
      "cell_type": "code",
      "source": [
        "from sklearn.metrics import confusion_matrix\n",
        "\n",
        "class IoULoss(nn.Module):\n",
        "    def __init__(self, weight=None, size_average=True):\n",
        "        super(IoULoss, self).__init__()\n",
        "\n",
        "    def forward(self, inputs, targets, smooth=1):\n",
        "\n",
        "        #comment out if your model contains a sigmoid or equivalent activation layer\n",
        "        #inputs = F.sigmoid(inputs)\n",
        "\n",
        "        #flatten label and prediction tensors\n",
        "        inputs = inputs.view(-1)\n",
        "        targets = targets.view(-1)\n",
        "\n",
        "        #intersection is equivalent to True Positive count\n",
        "        #union is the mutually inclusive area of all labels & predictions\n",
        "        intersection = (inputs * targets).sum()\n",
        "        total = (inputs + targets).sum()\n",
        "        union = total - intersection\n",
        "\n",
        "        IoU = (intersection + smooth)/(union + smooth)\n",
        "\n",
        "        return 1 - IoU\n",
        "\n",
        "def iou_pytorch(outputs: torch.Tensor, labels: torch.Tensor):\n",
        "    \"\"\"Fast enough iou calculation function\"\"\"\n",
        "    SMOOTH = 1e-6\n",
        "    outputs = outputs.squeeze(1)  # BATCH x 1 x H x W => BATCH x H x W\n",
        "    #outputs = outputs.detach()\n",
        "    #labels = labels.detach()\n",
        "\n",
        "    intersection = (outputs & labels).float().sum((1, 2))\n",
        "    union = (outputs | labels).float().sum((1, 2))\n",
        "\n",
        "    iou = (intersection + SMOOTH) / (union + SMOOTH)  # We smooth our devision to avoid 0/0\n",
        "\n",
        "    thresholded = torch.clamp(20 * (iou - 0.5), 0, 10).ceil() / 10  # This is equal to comparing with thresolds\n",
        "\n",
        "    return thresholded.mean() # to get a batch average\n",
        "\n",
        "def segmentation_report(running_preds, running_labels):\n",
        "    \"\"\"Function to get a closer look to a confusion metrics and related metrics\"\"\"\n",
        "    rp = running_preds.flatten()\n",
        "    rl = running_labels.flatten()\n",
        "    tn, fp, fn, tp = confusion_matrix(rl, rp, labels=[0,1]).ravel()\n",
        "    px_accuracy = (tp+tn) / (tp+fp+tn+fn)\n",
        "    precision = tp / (tp+fp)\n",
        "    recall = tp / (tp+fn)\n",
        "    #calculating intersection over union\n",
        "    intersection = np.logical_and(rl, rp)\n",
        "    union = np.logical_or(rl, rp)\n",
        "    iou_score = np.sum(intersection) / np.sum(union)\n",
        "    fmeasure = 2 * precision * recall / (precision + recall)\n",
        "    #making report\n",
        "    report = { 'tp/tn/fp/fn' : (tp,tn,fp,fn),\n",
        "              'px_accuracy': px_accuracy,\n",
        "              'precision': precision,\n",
        "              'recall': recall,\n",
        "              'iou_score': iou_score,\n",
        "              'fmeasure':fmeasure\n",
        "             }\n",
        "    return report\n",
        "\n",
        "\n",
        "def log_batch_statistics(batch_number,batch_labels,batch_preds,phase,loss,since,num_batches,period=500):\n",
        "    if batch_number % period == 0:\n",
        "        iou_score = segmentation_report(batch_preds,batch_labels)\n",
        "        time_elapsed = time.time() - since\n",
        "\n",
        "        if phase == 'train':\n",
        "            telegram_bot_sendtext('TRAINING BATCH')\n",
        "        else:\n",
        "            telegram_bot_sendtext('VALIDATION BATCH')\n",
        "\n",
        "        telegram_bot_sendtext('-'*50)\n",
        "        telegram_bot_sendtext(f'\\n{batch_number}/{num_batches-1}:')\n",
        "        telegram_bot_sendtext(f'Total Time Elapsed: {time_elapsed/60:.2f} mins')\n",
        "        telegram_bot_sendtext(f'Batch Loss: {loss.item():.4f}\\n')\n",
        "        telegram_bot_sendtext(f\"``` IoU_score:{iou_score}\\n ```\")\n",
        "        telegram_bot_sendtext('-'*50)\n",
        "\n",
        "def break_time_limit(start_time,time_limit=28080):\n",
        "    time_elapsed = time()-start_time\n",
        "    if time_elapsed > time_limit:\n",
        "        sys.exit()"
      ],
      "metadata": {
        "execution": {
          "iopub.status.busy": "2021-08-27T23:22:30.601554Z",
          "iopub.execute_input": "2021-08-27T23:22:30.601912Z",
          "iopub.status.idle": "2021-08-27T23:22:30.738354Z",
          "shell.execute_reply.started": "2021-08-27T23:22:30.601875Z",
          "shell.execute_reply": "2021-08-27T23:22:30.737624Z"
        },
        "trusted": true,
        "id": "S2tPh2G1Omc0"
      },
      "execution_count": null,
      "outputs": []
    },
    {
      "cell_type": "code",
      "source": [
        "#learning policy params\n",
        "grayscale = True\n",
        "if grayscale == True:\n",
        "    in_channels = 2\n",
        "else: in_channels = 6\n",
        "\n",
        "N_EPOCHS = 25\n",
        "\n",
        "# turning on GPU if possible\n",
        "device = torch.device('cuda:0' if torch.cuda.is_available() else 'cpu')\n",
        "print('Using device:', device)\n",
        "print()\n",
        "\n",
        "# cleaning GPU\n",
        "gc.collect()\n",
        "torch.cuda.empty_cache()\n",
        "torch.backends.cudnn.benchmark = True\n",
        "\n",
        "# mean percentage of positives is 6.5% from the frame, median is 3.4%, so weights for bce loss are required.\n",
        "weights = torch.Tensor([28]).to(device)\n",
        "\n",
        "#criterion = torch.nn.BCEWithLogitsLoss(pos_weight = weights)\n",
        "criterion = IoULoss()\n"
      ],
      "metadata": {
        "execution": {
          "iopub.status.busy": "2021-08-27T23:22:30.739520Z",
          "iopub.execute_input": "2021-08-27T23:22:30.739876Z",
          "iopub.status.idle": "2021-08-27T23:22:35.095910Z",
          "shell.execute_reply.started": "2021-08-27T23:22:30.739838Z",
          "shell.execute_reply": "2021-08-27T23:22:35.095027Z"
        },
        "trusted": true,
        "id": "NL3jN6iAOmc0",
        "outputId": "5763be1a-cc95-4cfd-db54-d735fde97129"
      },
      "execution_count": null,
      "outputs": [
        {
          "name": "stdout",
          "text": "Using device: cuda:0\n\n",
          "output_type": "stream"
        }
      ]
    },
    {
      "cell_type": "markdown",
      "source": [
        "Change detection FC model"
      ],
      "metadata": {
        "id": "TnK-SjF6Omc1"
      }
    },
    {
      "cell_type": "code",
      "source": [
        "import torch.nn.functional as F\n",
        "\n",
        "class Unet(nn.Module):\n",
        "    \"\"\"EF segmentation network.\"\"\"\n",
        "\n",
        "    def __init__(self, input_nbr, label_nbr):\n",
        "        super(Unet, self).__init__()\n",
        "\n",
        "        self.input_nbr = input_nbr\n",
        "\n",
        "        self.conv11 = nn.Conv2d(input_nbr, 16, kernel_size=3, padding=1)\n",
        "        self.bn11 = nn.BatchNorm2d(16)\n",
        "        self.do11 = nn.Dropout2d(p=0.2)\n",
        "        self.conv12 = nn.Conv2d(16, 16, kernel_size=3, padding=1)\n",
        "        self.bn12 = nn.BatchNorm2d(16)\n",
        "        self.do12 = nn.Dropout2d(p=0.2)\n",
        "\n",
        "        self.conv21 = nn.Conv2d(16, 32, kernel_size=3, padding=1)\n",
        "        self.bn21 = nn.BatchNorm2d(32)\n",
        "        self.do21 = nn.Dropout2d(p=0.2)\n",
        "        self.conv22 = nn.Conv2d(32, 32, kernel_size=3, padding=1)\n",
        "        self.bn22 = nn.BatchNorm2d(32)\n",
        "        self.do22 = nn.Dropout2d(p=0.2)\n",
        "\n",
        "        self.conv31 = nn.Conv2d(32, 64, kernel_size=3, padding=1)\n",
        "        self.bn31 = nn.BatchNorm2d(64)\n",
        "        self.do31 = nn.Dropout2d(p=0.2)\n",
        "        self.conv32 = nn.Conv2d(64, 64, kernel_size=3, padding=1)\n",
        "        self.bn32 = nn.BatchNorm2d(64)\n",
        "        self.do32 = nn.Dropout2d(p=0.2)\n",
        "        self.conv33 = nn.Conv2d(64, 64, kernel_size=3, padding=1)\n",
        "        self.bn33 = nn.BatchNorm2d(64)\n",
        "        self.do33 = nn.Dropout2d(p=0.2)\n",
        "\n",
        "        self.conv41 = nn.Conv2d(64, 128, kernel_size=3, padding=1)\n",
        "        self.bn41 = nn.BatchNorm2d(128)\n",
        "        self.do41 = nn.Dropout2d(p=0.2)\n",
        "        self.conv42 = nn.Conv2d(128, 128, kernel_size=3, padding=1)\n",
        "        self.bn42 = nn.BatchNorm2d(128)\n",
        "        self.do42 = nn.Dropout2d(p=0.2)\n",
        "        self.conv43 = nn.Conv2d(128, 128, kernel_size=3, padding=1)\n",
        "        self.bn43 = nn.BatchNorm2d(128)\n",
        "        self.do43 = nn.Dropout2d(p=0.2)\n",
        "\n",
        "\n",
        "        self.upconv4 = nn.ConvTranspose2d(128, 128, kernel_size=3, padding=1, stride=2, output_padding=1)\n",
        "\n",
        "        self.conv43d = nn.ConvTranspose2d(256, 128, kernel_size=3, padding=1)\n",
        "        self.bn43d = nn.BatchNorm2d(128)\n",
        "        self.do43d = nn.Dropout2d(p=0.2)\n",
        "        self.conv42d = nn.ConvTranspose2d(128, 128, kernel_size=3, padding=1)\n",
        "        self.bn42d = nn.BatchNorm2d(128)\n",
        "        self.do42d = nn.Dropout2d(p=0.2)\n",
        "        self.conv41d = nn.ConvTranspose2d(128, 64, kernel_size=3, padding=1)\n",
        "        self.bn41d = nn.BatchNorm2d(64)\n",
        "        self.do41d = nn.Dropout2d(p=0.2)\n",
        "\n",
        "        self.upconv3 = nn.ConvTranspose2d(64, 64, kernel_size=3, padding=1, stride=2, output_padding=1)\n",
        "\n",
        "        self.conv33d = nn.ConvTranspose2d(128, 64, kernel_size=3, padding=1)\n",
        "        self.bn33d = nn.BatchNorm2d(64)\n",
        "        self.do33d = nn.Dropout2d(p=0.2)\n",
        "        self.conv32d = nn.ConvTranspose2d(64, 64, kernel_size=3, padding=1)\n",
        "        self.bn32d = nn.BatchNorm2d(64)\n",
        "        self.do32d = nn.Dropout2d(p=0.2)\n",
        "        self.conv31d = nn.ConvTranspose2d(64, 32, kernel_size=3, padding=1)\n",
        "        self.bn31d = nn.BatchNorm2d(32)\n",
        "        self.do31d = nn.Dropout2d(p=0.2)\n",
        "\n",
        "        self.upconv2 = nn.ConvTranspose2d(32, 32, kernel_size=3, padding=1, stride=2, output_padding=1)\n",
        "\n",
        "        self.conv22d = nn.ConvTranspose2d(64, 32, kernel_size=3, padding=1)\n",
        "        self.bn22d = nn.BatchNorm2d(32)\n",
        "        self.do22d = nn.Dropout2d(p=0.2)\n",
        "        self.conv21d = nn.ConvTranspose2d(32, 16, kernel_size=3, padding=1)\n",
        "        self.bn21d = nn.BatchNorm2d(16)\n",
        "        self.do21d = nn.Dropout2d(p=0.2)\n",
        "\n",
        "        self.upconv1 = nn.ConvTranspose2d(16, 16, kernel_size=3, padding=1, stride=2, output_padding=1)\n",
        "\n",
        "        self.conv12d = nn.ConvTranspose2d(32, 16, kernel_size=3, padding=1)\n",
        "        self.bn12d = nn.BatchNorm2d(16)\n",
        "        self.do12d = nn.Dropout2d(p=0.2)\n",
        "        self.conv11d = nn.ConvTranspose2d(16, label_nbr, kernel_size=3, padding=1)\n",
        "\n",
        "        self.sm = nn.Sigmoid()\n",
        "\n",
        "    def forward(self, x1, x2):\n",
        "\n",
        "        x = torch.cat((x1, x2), 1)\n",
        "\n",
        "        \"\"\"Forward method.\"\"\"\n",
        "        # Stage 1\n",
        "        x11 = self.do11(F.relu(self.bn11(self.conv11(x))))\n",
        "        x12 = self.do12(F.relu(self.bn12(self.conv12(x11))))\n",
        "        x1p = F.max_pool2d(x12, kernel_size=2, stride=2)\n",
        "\n",
        "        # Stage 2\n",
        "        x21 = self.do21(F.relu(self.bn21(self.conv21(x1p))))\n",
        "        x22 = self.do22(F.relu(self.bn22(self.conv22(x21))))\n",
        "        x2p = F.max_pool2d(x22, kernel_size=2, stride=2)\n",
        "\n",
        "        # Stage 3\n",
        "        x31 = self.do31(F.relu(self.bn31(self.conv31(x2p))))\n",
        "        x32 = self.do32(F.relu(self.bn32(self.conv32(x31))))\n",
        "        x33 = self.do33(F.relu(self.bn33(self.conv33(x32))))\n",
        "        x3p = F.max_pool2d(x33, kernel_size=2, stride=2)\n",
        "\n",
        "        # Stage 4\n",
        "        x41 = self.do41(F.relu(self.bn41(self.conv41(x3p))))\n",
        "        x42 = self.do42(F.relu(self.bn42(self.conv42(x41))))\n",
        "        x43 = self.do43(F.relu(self.bn43(self.conv43(x42))))\n",
        "        x4p = F.max_pool2d(x43, kernel_size=2, stride=2)\n",
        "\n",
        "\n",
        "        # Stage 4d\n",
        "        x4d = self.upconv4(x4p)\n",
        "        pad4 = ReplicationPad2d((0, x43.size(3) - x4d.size(3), 0, x43.size(2) - x4d.size(2)))\n",
        "        x4d = torch.cat((pad4(x4d), x43), 1)\n",
        "        x43d = self.do43d(F.relu(self.bn43d(self.conv43d(x4d))))\n",
        "        x42d = self.do42d(F.relu(self.bn42d(self.conv42d(x43d))))\n",
        "        x41d = self.do41d(F.relu(self.bn41d(self.conv41d(x42d))))\n",
        "\n",
        "        # Stage 3d\n",
        "        x3d = self.upconv3(x41d)\n",
        "        pad3 = ReplicationPad2d((0, x33.size(3) - x3d.size(3), 0, x33.size(2) - x3d.size(2)))\n",
        "        x3d = torch.cat((pad3(x3d), x33), 1)\n",
        "        x33d = self.do33d(F.relu(self.bn33d(self.conv33d(x3d))))\n",
        "        x32d = self.do32d(F.relu(self.bn32d(self.conv32d(x33d))))\n",
        "        x31d = self.do31d(F.relu(self.bn31d(self.conv31d(x32d))))\n",
        "\n",
        "        # Stage 2d\n",
        "        x2d = self.upconv2(x31d)\n",
        "        pad2 = ReplicationPad2d((0, x22.size(3) - x2d.size(3), 0, x22.size(2) - x2d.size(2)))\n",
        "        x2d = torch.cat((pad2(x2d), x22), 1)\n",
        "        x22d = self.do22d(F.relu(self.bn22d(self.conv22d(x2d))))\n",
        "        x21d = self.do21d(F.relu(self.bn21d(self.conv21d(x22d))))\n",
        "\n",
        "        # Stage 1d\n",
        "        x1d = self.upconv1(x21d)\n",
        "        pad1 = ReplicationPad2d((0, x12.size(3) - x1d.size(3), 0, x12.size(2) - x1d.size(2)))\n",
        "        x1d = torch.cat((pad1(x1d), x12), 1)\n",
        "        x12d = self.do12d(F.relu(self.bn12d(self.conv12d(x1d))))\n",
        "        x11d = self.conv11d(x12d)\n",
        "\n",
        "        return self.sm(x11d)\n",
        "\n",
        "class SiamUnet_diff(nn.Module):\n",
        "    \"\"\"SiamUnet_diff segmentation network.\"\"\"\n",
        "\n",
        "    def __init__(self, input_nbr, label_nbr):\n",
        "        super(SiamUnet_diff, self).__init__()\n",
        "\n",
        "        self.input_nbr = input_nbr\n",
        "\n",
        "        self.conv11 = nn.Conv2d(input_nbr, 16, kernel_size=3, padding=1)\n",
        "        self.bn11 = nn.BatchNorm2d(16)\n",
        "        self.do11 = nn.Dropout2d(p=0.2)\n",
        "        self.conv12 = nn.Conv2d(16, 16, kernel_size=3, padding=1)\n",
        "        self.bn12 = nn.BatchNorm2d(16)\n",
        "        self.do12 = nn.Dropout2d(p=0.2)\n",
        "\n",
        "        self.conv21 = nn.Conv2d(16, 32, kernel_size=3, padding=1)\n",
        "        self.bn21 = nn.BatchNorm2d(32)\n",
        "        self.do21 = nn.Dropout2d(p=0.2)\n",
        "        self.conv22 = nn.Conv2d(32, 32, kernel_size=3, padding=1)\n",
        "        self.bn22 = nn.BatchNorm2d(32)\n",
        "        self.do22 = nn.Dropout2d(p=0.2)\n",
        "\n",
        "        self.conv31 = nn.Conv2d(32, 64, kernel_size=3, padding=1)\n",
        "        self.bn31 = nn.BatchNorm2d(64)\n",
        "        self.do31 = nn.Dropout2d(p=0.2)\n",
        "        self.conv32 = nn.Conv2d(64, 64, kernel_size=3, padding=1)\n",
        "        self.bn32 = nn.BatchNorm2d(64)\n",
        "        self.do32 = nn.Dropout2d(p=0.2)\n",
        "        self.conv33 = nn.Conv2d(64, 64, kernel_size=3, padding=1)\n",
        "        self.bn33 = nn.BatchNorm2d(64)\n",
        "        self.do33 = nn.Dropout2d(p=0.2)\n",
        "\n",
        "        self.conv41 = nn.Conv2d(64, 128, kernel_size=3, padding=1)\n",
        "        self.bn41 = nn.BatchNorm2d(128)\n",
        "        self.do41 = nn.Dropout2d(p=0.2)\n",
        "        self.conv42 = nn.Conv2d(128, 128, kernel_size=3, padding=1)\n",
        "        self.bn42 = nn.BatchNorm2d(128)\n",
        "        self.do42 = nn.Dropout2d(p=0.2)\n",
        "        self.conv43 = nn.Conv2d(128, 128, kernel_size=3, padding=1)\n",
        "        self.bn43 = nn.BatchNorm2d(128)\n",
        "        self.do43 = nn.Dropout2d(p=0.2)\n",
        "\n",
        "        self.upconv4 = nn.ConvTranspose2d(128, 128, kernel_size=3, padding=1, stride=2, output_padding=1)\n",
        "\n",
        "        self.conv43d = nn.ConvTranspose2d(256, 128, kernel_size=3, padding=1)\n",
        "        self.bn43d = nn.BatchNorm2d(128)\n",
        "        self.do43d = nn.Dropout2d(p=0.2)\n",
        "        self.conv42d = nn.ConvTranspose2d(128, 128, kernel_size=3, padding=1)\n",
        "        self.bn42d = nn.BatchNorm2d(128)\n",
        "        self.do42d = nn.Dropout2d(p=0.2)\n",
        "        self.conv41d = nn.ConvTranspose2d(128, 64, kernel_size=3, padding=1)\n",
        "        self.bn41d = nn.BatchNorm2d(64)\n",
        "        self.do41d = nn.Dropout2d(p=0.2)\n",
        "\n",
        "        self.upconv3 = nn.ConvTranspose2d(64, 64, kernel_size=3, padding=1, stride=2, output_padding=1)\n",
        "\n",
        "        self.conv33d = nn.ConvTranspose2d(128, 64, kernel_size=3, padding=1)\n",
        "        self.bn33d = nn.BatchNorm2d(64)\n",
        "        self.do33d = nn.Dropout2d(p=0.2)\n",
        "        self.conv32d = nn.ConvTranspose2d(64, 64, kernel_size=3, padding=1)\n",
        "        self.bn32d = nn.BatchNorm2d(64)\n",
        "        self.do32d = nn.Dropout2d(p=0.2)\n",
        "        self.conv31d = nn.ConvTranspose2d(64, 32, kernel_size=3, padding=1)\n",
        "        self.bn31d = nn.BatchNorm2d(32)\n",
        "        self.do31d = nn.Dropout2d(p=0.2)\n",
        "\n",
        "        self.upconv2 = nn.ConvTranspose2d(32, 32, kernel_size=3, padding=1, stride=2, output_padding=1)\n",
        "\n",
        "        self.conv22d = nn.ConvTranspose2d(64, 32, kernel_size=3, padding=1)\n",
        "        self.bn22d = nn.BatchNorm2d(32)\n",
        "        self.do22d = nn.Dropout2d(p=0.2)\n",
        "        self.conv21d = nn.ConvTranspose2d(32, 16, kernel_size=3, padding=1)\n",
        "        self.bn21d = nn.BatchNorm2d(16)\n",
        "        self.do21d = nn.Dropout2d(p=0.2)\n",
        "\n",
        "        self.upconv1 = nn.ConvTranspose2d(16, 16, kernel_size=3, padding=1, stride=2, output_padding=1)\n",
        "\n",
        "        self.conv12d = nn.ConvTranspose2d(32, 16, kernel_size=3, padding=1)\n",
        "        self.bn12d = nn.BatchNorm2d(16)\n",
        "        self.do12d = nn.Dropout2d(p=0.2)\n",
        "        self.conv11d = nn.ConvTranspose2d(16, label_nbr, kernel_size=3, padding=1)\n",
        "\n",
        "        self.sm = nn.Sigmoid()\n",
        "\n",
        "    def forward(self, x1, x2):\n",
        "\n",
        "\n",
        "        \"\"\"Forward method.\"\"\"\n",
        "        # Stage 1\n",
        "        x11 = self.do11(F.relu(self.bn11(self.conv11(x1))))\n",
        "        x12_1 = self.do12(F.relu(self.bn12(self.conv12(x11))))\n",
        "        x1p = F.max_pool2d(x12_1, kernel_size=2, stride=2)\n",
        "\n",
        "\n",
        "        # Stage 2\n",
        "        x21 = self.do21(F.relu(self.bn21(self.conv21(x1p))))\n",
        "        x22_1 = self.do22(F.relu(self.bn22(self.conv22(x21))))\n",
        "        x2p = F.max_pool2d(x22_1, kernel_size=2, stride=2)\n",
        "\n",
        "        # Stage 3\n",
        "        x31 = self.do31(F.relu(self.bn31(self.conv31(x2p))))\n",
        "        x32 = self.do32(F.relu(self.bn32(self.conv32(x31))))\n",
        "        x33_1 = self.do33(F.relu(self.bn33(self.conv33(x32))))\n",
        "        x3p = F.max_pool2d(x33_1, kernel_size=2, stride=2)\n",
        "\n",
        "        # Stage 4\n",
        "        x41 = self.do41(F.relu(self.bn41(self.conv41(x3p))))\n",
        "        x42 = self.do42(F.relu(self.bn42(self.conv42(x41))))\n",
        "        x43_1 = self.do43(F.relu(self.bn43(self.conv43(x42))))\n",
        "        x4p = F.max_pool2d(x43_1, kernel_size=2, stride=2)\n",
        "\n",
        "        ####################################################\n",
        "        # Stage 1\n",
        "        x11 = self.do11(F.relu(self.bn11(self.conv11(x2))))\n",
        "        x12_2 = self.do12(F.relu(self.bn12(self.conv12(x11))))\n",
        "        x1p = F.max_pool2d(x12_2, kernel_size=2, stride=2)\n",
        "\n",
        "\n",
        "        # Stage 2\n",
        "        x21 = self.do21(F.relu(self.bn21(self.conv21(x1p))))\n",
        "        x22_2 = self.do22(F.relu(self.bn22(self.conv22(x21))))\n",
        "        x2p = F.max_pool2d(x22_2, kernel_size=2, stride=2)\n",
        "\n",
        "        # Stage 3\n",
        "        x31 = self.do31(F.relu(self.bn31(self.conv31(x2p))))\n",
        "        x32 = self.do32(F.relu(self.bn32(self.conv32(x31))))\n",
        "        x33_2 = self.do33(F.relu(self.bn33(self.conv33(x32))))\n",
        "        x3p = F.max_pool2d(x33_2, kernel_size=2, stride=2)\n",
        "\n",
        "        # Stage 4\n",
        "        x41 = self.do41(F.relu(self.bn41(self.conv41(x3p))))\n",
        "        x42 = self.do42(F.relu(self.bn42(self.conv42(x41))))\n",
        "        x43_2 = self.do43(F.relu(self.bn43(self.conv43(x42))))\n",
        "        x4p = F.max_pool2d(x43_2, kernel_size=2, stride=2)\n",
        "\n",
        "\n",
        "\n",
        "        # Stage 4d\n",
        "        x4d = self.upconv4(x4p)\n",
        "        pad4 = ReplicationPad2d((0, x43_1.size(3) - x4d.size(3), 0, x43_1.size(2) - x4d.size(2)))\n",
        "        x4d = torch.cat((pad4(x4d), torch.abs(x43_1 - x43_2)), 1)\n",
        "        x43d = self.do43d(F.relu(self.bn43d(self.conv43d(x4d))))\n",
        "        x42d = self.do42d(F.relu(self.bn42d(self.conv42d(x43d))))\n",
        "        x41d = self.do41d(F.relu(self.bn41d(self.conv41d(x42d))))\n",
        "\n",
        "        # Stage 3d\n",
        "        x3d = self.upconv3(x41d)\n",
        "        pad3 = ReplicationPad2d((0, x33_1.size(3) - x3d.size(3), 0, x33_1.size(2) - x3d.size(2)))\n",
        "        x3d = torch.cat((pad3(x3d), torch.abs(x33_1 - x33_2)), 1)\n",
        "        x33d = self.do33d(F.relu(self.bn33d(self.conv33d(x3d))))\n",
        "        x32d = self.do32d(F.relu(self.bn32d(self.conv32d(x33d))))\n",
        "        x31d = self.do31d(F.relu(self.bn31d(self.conv31d(x32d))))\n",
        "\n",
        "        # Stage 2d\n",
        "        x2d = self.upconv2(x31d)\n",
        "        pad2 = ReplicationPad2d((0, x22_1.size(3) - x2d.size(3), 0, x22_1.size(2) - x2d.size(2)))\n",
        "        x2d = torch.cat((pad2(x2d), torch.abs(x22_1 - x22_2)), 1)\n",
        "        x22d = self.do22d(F.relu(self.bn22d(self.conv22d(x2d))))\n",
        "        x21d = self.do21d(F.relu(self.bn21d(self.conv21d(x22d))))\n",
        "\n",
        "        # Stage 1d\n",
        "        x1d = self.upconv1(x21d)\n",
        "        pad1 = ReplicationPad2d((0, x12_1.size(3) - x1d.size(3), 0, x12_1.size(2) - x1d.size(2)))\n",
        "        x1d = torch.cat((pad1(x1d), torch.abs(x12_1 - x12_2)), 1)\n",
        "        x12d = self.do12d(F.relu(self.bn12d(self.conv12d(x1d))))\n",
        "        x11d = self.conv11d(x12d)\n",
        "\n",
        "        return self.sm(x11d)\n"
      ],
      "metadata": {
        "execution": {
          "iopub.status.busy": "2021-08-27T23:22:35.097374Z",
          "iopub.execute_input": "2021-08-27T23:22:35.097704Z",
          "iopub.status.idle": "2021-08-27T23:22:35.175905Z",
          "shell.execute_reply.started": "2021-08-27T23:22:35.097668Z",
          "shell.execute_reply": "2021-08-27T23:22:35.175049Z"
        },
        "trusted": true,
        "id": "KrZrZ0BoOmc2"
      },
      "execution_count": null,
      "outputs": []
    },
    {
      "cell_type": "code",
      "source": [
        "!pip install segmentation_models_pytorch\n",
        "import segmentation_models_pytorch as smp"
      ],
      "metadata": {
        "execution": {
          "iopub.status.busy": "2021-08-27T23:22:35.177356Z",
          "iopub.execute_input": "2021-08-27T23:22:35.177690Z",
          "iopub.status.idle": "2021-08-27T23:22:41.727052Z",
          "shell.execute_reply.started": "2021-08-27T23:22:35.177656Z",
          "shell.execute_reply": "2021-08-27T23:22:41.726122Z"
        },
        "trusted": true,
        "id": "4h3G8uu4Omc3",
        "outputId": "d6400261-8fdd-4cb2-8da1-5aa287a4585d"
      },
      "execution_count": null,
      "outputs": [
        {
          "name": "stdout",
          "text": "Requirement already satisfied: segmentation_models_pytorch in /opt/conda/lib/python3.7/site-packages (0.2.0)\nRequirement already satisfied: torchvision>=0.5.0 in /opt/conda/lib/python3.7/site-packages (from segmentation_models_pytorch) (0.8.1)\nRequirement already satisfied: timm==0.4.12 in /opt/conda/lib/python3.7/site-packages (from segmentation_models_pytorch) (0.4.12)\nRequirement already satisfied: efficientnet-pytorch==0.6.3 in /opt/conda/lib/python3.7/site-packages (from segmentation_models_pytorch) (0.6.3)\nRequirement already satisfied: pretrainedmodels==0.7.4 in /opt/conda/lib/python3.7/site-packages (from segmentation_models_pytorch) (0.7.4)\nRequirement already satisfied: torch in /opt/conda/lib/python3.7/site-packages (from efficientnet-pytorch==0.6.3->segmentation_models_pytorch) (1.7.0)\nRequirement already satisfied: munch in /opt/conda/lib/python3.7/site-packages (from pretrainedmodels==0.7.4->segmentation_models_pytorch) (2.5.0)\nRequirement already satisfied: tqdm in /opt/conda/lib/python3.7/site-packages (from pretrainedmodels==0.7.4->segmentation_models_pytorch) (4.61.1)\nRequirement already satisfied: future in /opt/conda/lib/python3.7/site-packages (from torch->efficientnet-pytorch==0.6.3->segmentation_models_pytorch) (0.18.2)\nRequirement already satisfied: typing_extensions in /opt/conda/lib/python3.7/site-packages (from torch->efficientnet-pytorch==0.6.3->segmentation_models_pytorch) (3.7.4.3)\nRequirement already satisfied: dataclasses in /opt/conda/lib/python3.7/site-packages (from torch->efficientnet-pytorch==0.6.3->segmentation_models_pytorch) (0.6)\nRequirement already satisfied: numpy in /opt/conda/lib/python3.7/site-packages (from torch->efficientnet-pytorch==0.6.3->segmentation_models_pytorch) (1.19.5)\nRequirement already satisfied: pillow>=4.1.1 in /opt/conda/lib/python3.7/site-packages (from torchvision>=0.5.0->segmentation_models_pytorch) (8.2.0)\nRequirement already satisfied: six in /opt/conda/lib/python3.7/site-packages (from munch->pretrainedmodels==0.7.4->segmentation_models_pytorch) (1.15.0)\n\u001b[33mWARNING: Running pip as root will break packages and permissions. You should install packages reliably by using venv: https://pip.pypa.io/warnings/venv\u001b[0m\n",
          "output_type": "stream"
        }
      ]
    },
    {
      "cell_type": "code",
      "source": [
        "if grayscale == True:\n",
        "    #net, net_name = smp.Unet('resnet34', in_channels = 2, activation='sigmoid'), 'FC-EF'\n",
        "    net, net_name = SiamUnet_diff(1,1), 'FC-Siam-diff'\n",
        "    #net, net_name = SiamUnet_conc(1,1), 'FC-Siam-conc'\n",
        "    #net, net_name = Unet(2,1), 'FC-EF'\n",
        "\n",
        "else:\n",
        "    #net, net_name = smp.Unet('resnet34', in_channels = 6, activation='sigmoid'), 'FC-EF'\n",
        "    net, net_name = SiamUnet_diff(3, 1), 'FC-Siam-diff'\n",
        "    #net, net_name = SiamUnet_conc(3,1), 'FC-Siam-conc'\n",
        "    #net, net_name = Unet(3*2,1), 'FC-EF'\n",
        "net = net.to(device)"
      ],
      "metadata": {
        "execution": {
          "iopub.status.busy": "2021-08-27T23:22:41.730437Z",
          "iopub.execute_input": "2021-08-27T23:22:41.730722Z",
          "iopub.status.idle": "2021-08-27T23:22:41.766509Z",
          "shell.execute_reply.started": "2021-08-27T23:22:41.730691Z",
          "shell.execute_reply": "2021-08-27T23:22:41.765684Z"
        },
        "trusted": true,
        "id": "weaw6U5-Omc3"
      },
      "execution_count": null,
      "outputs": []
    },
    {
      "cell_type": "code",
      "source": [
        "net"
      ],
      "metadata": {
        "execution": {
          "iopub.status.busy": "2021-08-27T23:22:41.767632Z",
          "iopub.execute_input": "2021-08-27T23:22:41.767965Z",
          "iopub.status.idle": "2021-08-27T23:22:41.774713Z",
          "shell.execute_reply.started": "2021-08-27T23:22:41.767931Z",
          "shell.execute_reply": "2021-08-27T23:22:41.773829Z"
        },
        "trusted": true,
        "id": "4Vo3tgIdOmc3",
        "outputId": "d159e6b3-4730-4527-bf44-5215d055dab9"
      },
      "execution_count": null,
      "outputs": [
        {
          "execution_count": 21,
          "output_type": "execute_result",
          "data": {
            "text/plain": "SiamUnet_diff(\n  (conv11): Conv2d(1, 16, kernel_size=(3, 3), stride=(1, 1), padding=(1, 1))\n  (bn11): BatchNorm2d(16, eps=1e-05, momentum=0.1, affine=True, track_running_stats=True)\n  (do11): Dropout2d(p=0.2, inplace=False)\n  (conv12): Conv2d(16, 16, kernel_size=(3, 3), stride=(1, 1), padding=(1, 1))\n  (bn12): BatchNorm2d(16, eps=1e-05, momentum=0.1, affine=True, track_running_stats=True)\n  (do12): Dropout2d(p=0.2, inplace=False)\n  (conv21): Conv2d(16, 32, kernel_size=(3, 3), stride=(1, 1), padding=(1, 1))\n  (bn21): BatchNorm2d(32, eps=1e-05, momentum=0.1, affine=True, track_running_stats=True)\n  (do21): Dropout2d(p=0.2, inplace=False)\n  (conv22): Conv2d(32, 32, kernel_size=(3, 3), stride=(1, 1), padding=(1, 1))\n  (bn22): BatchNorm2d(32, eps=1e-05, momentum=0.1, affine=True, track_running_stats=True)\n  (do22): Dropout2d(p=0.2, inplace=False)\n  (conv31): Conv2d(32, 64, kernel_size=(3, 3), stride=(1, 1), padding=(1, 1))\n  (bn31): BatchNorm2d(64, eps=1e-05, momentum=0.1, affine=True, track_running_stats=True)\n  (do31): Dropout2d(p=0.2, inplace=False)\n  (conv32): Conv2d(64, 64, kernel_size=(3, 3), stride=(1, 1), padding=(1, 1))\n  (bn32): BatchNorm2d(64, eps=1e-05, momentum=0.1, affine=True, track_running_stats=True)\n  (do32): Dropout2d(p=0.2, inplace=False)\n  (conv33): Conv2d(64, 64, kernel_size=(3, 3), stride=(1, 1), padding=(1, 1))\n  (bn33): BatchNorm2d(64, eps=1e-05, momentum=0.1, affine=True, track_running_stats=True)\n  (do33): Dropout2d(p=0.2, inplace=False)\n  (conv41): Conv2d(64, 128, kernel_size=(3, 3), stride=(1, 1), padding=(1, 1))\n  (bn41): BatchNorm2d(128, eps=1e-05, momentum=0.1, affine=True, track_running_stats=True)\n  (do41): Dropout2d(p=0.2, inplace=False)\n  (conv42): Conv2d(128, 128, kernel_size=(3, 3), stride=(1, 1), padding=(1, 1))\n  (bn42): BatchNorm2d(128, eps=1e-05, momentum=0.1, affine=True, track_running_stats=True)\n  (do42): Dropout2d(p=0.2, inplace=False)\n  (conv43): Conv2d(128, 128, kernel_size=(3, 3), stride=(1, 1), padding=(1, 1))\n  (bn43): BatchNorm2d(128, eps=1e-05, momentum=0.1, affine=True, track_running_stats=True)\n  (do43): Dropout2d(p=0.2, inplace=False)\n  (upconv4): ConvTranspose2d(128, 128, kernel_size=(3, 3), stride=(2, 2), padding=(1, 1), output_padding=(1, 1))\n  (conv43d): ConvTranspose2d(256, 128, kernel_size=(3, 3), stride=(1, 1), padding=(1, 1))\n  (bn43d): BatchNorm2d(128, eps=1e-05, momentum=0.1, affine=True, track_running_stats=True)\n  (do43d): Dropout2d(p=0.2, inplace=False)\n  (conv42d): ConvTranspose2d(128, 128, kernel_size=(3, 3), stride=(1, 1), padding=(1, 1))\n  (bn42d): BatchNorm2d(128, eps=1e-05, momentum=0.1, affine=True, track_running_stats=True)\n  (do42d): Dropout2d(p=0.2, inplace=False)\n  (conv41d): ConvTranspose2d(128, 64, kernel_size=(3, 3), stride=(1, 1), padding=(1, 1))\n  (bn41d): BatchNorm2d(64, eps=1e-05, momentum=0.1, affine=True, track_running_stats=True)\n  (do41d): Dropout2d(p=0.2, inplace=False)\n  (upconv3): ConvTranspose2d(64, 64, kernel_size=(3, 3), stride=(2, 2), padding=(1, 1), output_padding=(1, 1))\n  (conv33d): ConvTranspose2d(128, 64, kernel_size=(3, 3), stride=(1, 1), padding=(1, 1))\n  (bn33d): BatchNorm2d(64, eps=1e-05, momentum=0.1, affine=True, track_running_stats=True)\n  (do33d): Dropout2d(p=0.2, inplace=False)\n  (conv32d): ConvTranspose2d(64, 64, kernel_size=(3, 3), stride=(1, 1), padding=(1, 1))\n  (bn32d): BatchNorm2d(64, eps=1e-05, momentum=0.1, affine=True, track_running_stats=True)\n  (do32d): Dropout2d(p=0.2, inplace=False)\n  (conv31d): ConvTranspose2d(64, 32, kernel_size=(3, 3), stride=(1, 1), padding=(1, 1))\n  (bn31d): BatchNorm2d(32, eps=1e-05, momentum=0.1, affine=True, track_running_stats=True)\n  (do31d): Dropout2d(p=0.2, inplace=False)\n  (upconv2): ConvTranspose2d(32, 32, kernel_size=(3, 3), stride=(2, 2), padding=(1, 1), output_padding=(1, 1))\n  (conv22d): ConvTranspose2d(64, 32, kernel_size=(3, 3), stride=(1, 1), padding=(1, 1))\n  (bn22d): BatchNorm2d(32, eps=1e-05, momentum=0.1, affine=True, track_running_stats=True)\n  (do22d): Dropout2d(p=0.2, inplace=False)\n  (conv21d): ConvTranspose2d(32, 16, kernel_size=(3, 3), stride=(1, 1), padding=(1, 1))\n  (bn21d): BatchNorm2d(16, eps=1e-05, momentum=0.1, affine=True, track_running_stats=True)\n  (do21d): Dropout2d(p=0.2, inplace=False)\n  (upconv1): ConvTranspose2d(16, 16, kernel_size=(3, 3), stride=(2, 2), padding=(1, 1), output_padding=(1, 1))\n  (conv12d): ConvTranspose2d(32, 16, kernel_size=(3, 3), stride=(1, 1), padding=(1, 1))\n  (bn12d): BatchNorm2d(16, eps=1e-05, momentum=0.1, affine=True, track_running_stats=True)\n  (do12d): Dropout2d(p=0.2, inplace=False)\n  (conv11d): ConvTranspose2d(16, 1, kernel_size=(3, 3), stride=(1, 1), padding=(1, 1))\n  (sm): Sigmoid()\n)"
          },
          "metadata": {}
        }
      ]
    },
    {
      "cell_type": "code",
      "source": [
        "#defining datasets, samplers and dataloaders\n",
        "datasets = {x:TorchDataset(root_folder = root_folder,df = df_dict[x],aug = None, preproc = None, grayscale = grayscale) for x in ['train','test','valid']}\n",
        "\n",
        "samplers = {'train':BalancedSampler(datasets['train'], percentage = 1),\n",
        "            'test':BalancedSampler(datasets['test'], percentage = 1),\n",
        "            'valid':BalancedSampler(datasets['valid'], percentage = 1),\n",
        "            'sanity':BalancedSampler(datasets['train'], percentage = 1)}\n",
        "\n",
        "dataloaders = {x: DataLoader(dataset=datasets[x],\n",
        "                             batch_size=BATCH_SIZE,\n",
        "                             sampler=samplers[x],\n",
        "                             num_workers=16) for x in ['train','test','valid']}\n",
        "\n",
        "dataset_sizes = {x: len(datasets[x]) for x in ['train', 'test', 'valid']}\n",
        "\n"
      ],
      "metadata": {
        "execution": {
          "iopub.status.busy": "2021-08-27T23:22:41.776229Z",
          "iopub.execute_input": "2021-08-27T23:22:41.776861Z",
          "iopub.status.idle": "2021-08-27T23:22:41.785686Z",
          "shell.execute_reply.started": "2021-08-27T23:22:41.776825Z",
          "shell.execute_reply": "2021-08-27T23:22:41.784902Z"
        },
        "trusted": true,
        "id": "gVrcxVotOmc4"
      },
      "execution_count": null,
      "outputs": []
    },
    {
      "cell_type": "code",
      "source": [
        "def train(net, n_epochs = 25):\n",
        "    print('epoch,train_loss,train_iou,test_loss,test_iou',file=open('loss_log.txt', 'a'))\n",
        "    start_time = time()\n",
        "    # telegram_bot_sendtext(f'Training started')\n",
        "    scaler = GradScaler()\n",
        "\n",
        "    iou = -1\n",
        "    best_iou = -1\n",
        "\n",
        "    lss = 100000000\n",
        "    best_lss = 100000000\n",
        "\n",
        "    train_epoch_iou = 0\n",
        "    test_epoch_iou = 0\n",
        "\n",
        "\n",
        "    #defining optimizer and scheduler\n",
        "    optimizer = torch.optim.Adam(net.parameters(), lr = 0.005)\n",
        "    scheduler = torch.optim.lr_scheduler.ExponentialLR(optimizer, 0.95)\n",
        "\n",
        "\n",
        "    for epoch_index in tqdm(range(n_epochs)):\n",
        "        print('Epoch: ' + str(epoch_index + 1) + ' of ' + str(n_epochs))\n",
        "        train_running_loss = 0.0\n",
        "        train_running_iou = 0.0\n",
        "        test_running_loss = 0.0\n",
        "        test_running_iou = 0.0\n",
        "\n",
        "        for phase in ['train','test']:\n",
        "            if phase == 'train':\n",
        "                net.train()  # Set model to training mode\n",
        "            else:\n",
        "                net.eval()   # Set model to evaluate mode\n",
        "\n",
        "            num_batches = len(dataloaders[phase])\n",
        "            for batch_index, batch in enumerate(tqdm(dataloaders[phase])):\n",
        "                torch.cuda.empty_cache()\n",
        "                I1 = Variable(batch['I1'].float().to(device))\n",
        "                I2 = Variable(batch['I2'].float().to(device))\n",
        "                labels = Variable(batch['label'].float().to(device))\n",
        "\n",
        "                optimizer.zero_grad()\n",
        "                with torch.set_grad_enabled(phase == 'train'):\n",
        "                    with autocast():\n",
        "                        outputs = net(I1, I2)\n",
        "                        #outputs = net(torch.stack((I1, I2), axis = 1).squeeze()) # fusion for smp.Unet\n",
        "                        loss = criterion(outputs, labels)\n",
        "                    _, preds = torch.max(outputs.data, 1)\n",
        "                    del(_,outputs)\n",
        "                    if phase == 'train':\n",
        "                        scaler.scale(loss).backward()\n",
        "                        scaler.step(optimizer)\n",
        "                        optimizer.step()\n",
        "                        scaler.update()\n",
        "                    del(I1, I2)\n",
        "#                     except Exception as e:\n",
        "#                             msg = log_traceback(e)\n",
        "#                             telegram_bot_sendtext(f'failed at batch {batch_index}, with message: {msg}')\n",
        "#                             raise e\n",
        "#                             break\n",
        "#                     log_batch_statistics(batch_index,labels.data.long(),outputs.data.long(),phase,loss=loss,num_batches=num_batches,since=start_time)\n",
        "                if phase == 'train':\n",
        "                    train_running_loss += loss.item()\n",
        "                    # train_running_iou += iou_pytorch(preds.int().to('cpu'), labels.int().to('cpu')).item()\n",
        "                else:\n",
        "                    test_running_loss += loss.item()\n",
        "                    # test_running_iou += iou_pytorch(preds.int().to('cpu'), labels.int().to('cpu')).item()\n",
        "\n",
        "            if phase == 'train':\n",
        "                scheduler.step()\n",
        "                train_epoch_loss = train_running_loss / dataset_sizes[phase] * BATCH_SIZE\n",
        "                # train_epoch_iou = train_running_iou / dataset_sizes[phase] * BATCH_SIZE\n",
        "            else:\n",
        "                test_epoch_loss = test_running_loss / dataset_sizes[phase] * BATCH_SIZE\n",
        "                # test_epoch_iou = test_running_iou / dataset_sizes[phase] * BATCH_SIZE\n",
        "            #print(f'{epoch_index},{train_epoch_loss}, {train_epoch_iou},{test_epoch_loss},{test_epoch_iou}', file=open('loss_log.txt', 'a'))\n",
        "#             print(prof.key_averages().table(sort_by=\"cpu_memory_usage\", row_limit=20), file=open(\"profiler.txt\", \"a\"))\n",
        "#             telegram_send_file('./profiler.txt')\n",
        "            '''\n",
        "            if epoch_iou > best_iou:\n",
        "                best_iou = epoch_iou\n",
        "                save_str = f'./net{net_name}-best_epoch-' + str(epoch_index + 1) + '_iou_score-' + str(best_iou) + '.pth.tar'\n",
        "                torch.save(net, save_str)\n",
        "#                 telegram_send_file(save_str)\n",
        "                print('Model saved!')\n",
        "            '''\n",
        "            if (phase  == 'train') and (train_epoch_loss < best_lss):\n",
        "                best_lss = train_epoch_loss\n",
        "                save_str = f'./net{net_name}-best_epoch-' + str(epoch_index + 1) + '_loss-' + str(best_lss) + '.pth.tar'\n",
        "                torch.save(net, save_str)\n",
        "                #telegram_send_file(save_str)\n",
        "                print('Model saved!')\n",
        "\n",
        "            if (phase == 'test') and (test_epoch_loss < best_lss):\n",
        "                best_lss = test_epoch_loss\n",
        "                save_str = f'./net{net_name}-best_epoch-' + str(epoch_index + 1) + '_loss-' + str(best_lss) + '.pth.tar'\n",
        "                torch.save(net, save_str)\n",
        "                #telegram_send_file(save_str)\n",
        "                print('Model saved!')\n",
        "\n",
        "\n",
        "    model_str = './model.pth.tar'\n",
        "    torch.save(net, model_str)\n",
        "    #telegram_send_file(model_str)\n",
        "    print('Model saved!')\n",
        "    time_elapsed = time() - start_time\n",
        "    print()\n",
        "    print(f'Training complete in {time_elapsed // 60:.0f}m {time_elapsed % 60:.0f}s')\n",
        "\n",
        "    print(f'Training complete in {time_elapsed // 60:.0f}m {time_elapsed % 60:.0f}s')\n",
        "    print(f'Best val change_accuracy: {best_fm:4f}')\n",
        "\n",
        "    return net\n",
        ""
      ],
      "metadata": {
        "execution": {
          "iopub.status.busy": "2021-08-28T01:38:19.255749Z",
          "iopub.execute_input": "2021-08-28T01:38:19.256099Z",
          "iopub.status.idle": "2021-08-28T01:38:19.276521Z",
          "shell.execute_reply.started": "2021-08-28T01:38:19.256066Z",
          "shell.execute_reply": "2021-08-28T01:38:19.275430Z"
        },
        "trusted": true,
        "id": "3yOt8KgYOmc4"
      },
      "execution_count": null,
      "outputs": []
    },
    {
      "cell_type": "code",
      "source": [
        "#model = train(net,2)"
      ],
      "metadata": {
        "execution": {
          "iopub.status.busy": "2021-08-28T01:38:20.210009Z",
          "iopub.execute_input": "2021-08-28T01:38:20.210351Z",
          "iopub.status.idle": "2021-08-28T06:29:40.256537Z",
          "shell.execute_reply.started": "2021-08-28T01:38:20.210300Z",
          "shell.execute_reply": "2021-08-28T06:29:40.251395Z"
        },
        "trusted": true,
        "id": "igCx5a9vOmc4"
      },
      "execution_count": 1,
      "outputs": []
    },
    {
      "cell_type": "code",
      "source": [
        "dataset_sizes['train']"
      ],
      "metadata": {
        "execution": {
          "iopub.status.busy": "2021-08-28T06:30:06.541507Z",
          "iopub.execute_input": "2021-08-28T06:30:06.541841Z",
          "iopub.status.idle": "2021-08-28T06:30:06.547712Z",
          "shell.execute_reply.started": "2021-08-28T06:30:06.541812Z",
          "shell.execute_reply": "2021-08-28T06:30:06.546649Z"
        },
        "trusted": true,
        "id": "teEf-8kgOmc5",
        "outputId": "70c449c4-e202-4fb2-f38f-f6d318cd6a72"
      },
      "execution_count": null,
      "outputs": [
        {
          "execution_count": 29,
          "output_type": "execute_result",
          "data": {
            "text/plain": "2240512"
          },
          "metadata": {}
        }
      ]
    },
    {
      "cell_type": "code",
      "source": [
        "dataset_sizes['valid']"
      ],
      "metadata": {
        "execution": {
          "iopub.status.busy": "2021-08-28T06:30:07.771917Z",
          "iopub.execute_input": "2021-08-28T06:30:07.772244Z",
          "iopub.status.idle": "2021-08-28T06:30:07.779991Z",
          "shell.execute_reply.started": "2021-08-28T06:30:07.772207Z",
          "shell.execute_reply": "2021-08-28T06:30:07.779211Z"
        },
        "trusted": true,
        "id": "jl3E7aFTOmc5",
        "outputId": "dff191de-8eec-4177-c203-a2e5a7cebcc4"
      },
      "execution_count": null,
      "outputs": [
        {
          "execution_count": 30,
          "output_type": "execute_result",
          "data": {
            "text/plain": "525312"
          },
          "metadata": {}
        }
      ]
    },
    {
      "cell_type": "markdown",
      "source": [
        "Visualization"
      ],
      "metadata": {
        "execution": {
          "iopub.status.busy": "2021-08-28T06:30:10.260888Z",
          "iopub.execute_input": "2021-08-28T06:30:10.261210Z",
          "iopub.status.idle": "2021-08-28T06:30:10.282864Z",
          "shell.execute_reply.started": "2021-08-28T06:30:10.261180Z",
          "shell.execute_reply": "2021-08-28T06:30:10.281336Z"
        },
        "id": "nsB9Nky4Omc5"
      }
    },
    {
      "cell_type": "markdown",
      "source": [],
      "metadata": {
        "id": "yiYN_bRuOmc5"
      }
    },
    {
      "cell_type": "code",
      "source": [
        "model_path = '../input/model-fc-diff/model.pth.tar'\n",
        "model = torch.load(model_path)"
      ],
      "metadata": {
        "execution": {
          "iopub.status.busy": "2021-08-28T06:33:29.991785Z",
          "iopub.execute_input": "2021-08-28T06:33:29.992133Z",
          "iopub.status.idle": "2021-08-28T06:33:30.120750Z",
          "shell.execute_reply.started": "2021-08-28T06:33:29.992102Z",
          "shell.execute_reply": "2021-08-28T06:33:30.119837Z"
        },
        "trusted": true,
        "id": "Gen4vLFAOmc5"
      },
      "execution_count": null,
      "outputs": []
    },
    {
      "cell_type": "code",
      "source": [
        "model = model.cuda()"
      ],
      "metadata": {
        "execution": {
          "iopub.status.busy": "2021-08-28T06:33:32.422944Z",
          "iopub.execute_input": "2021-08-28T06:33:32.423287Z",
          "iopub.status.idle": "2021-08-28T06:33:32.435091Z",
          "shell.execute_reply.started": "2021-08-28T06:33:32.423256Z",
          "shell.execute_reply": "2021-08-28T06:33:32.434178Z"
        },
        "trusted": true,
        "id": "h3Lpj8OtOmc5"
      },
      "execution_count": null,
      "outputs": []
    },
    {
      "cell_type": "code",
      "source": [
        "model.eval()"
      ],
      "metadata": {
        "execution": {
          "iopub.status.busy": "2021-08-28T06:33:34.496900Z",
          "iopub.execute_input": "2021-08-28T06:33:34.497216Z",
          "iopub.status.idle": "2021-08-28T06:33:34.504171Z",
          "shell.execute_reply.started": "2021-08-28T06:33:34.497187Z",
          "shell.execute_reply": "2021-08-28T06:33:34.503215Z"
        },
        "trusted": true,
        "id": "XKNqhl6EOmc6",
        "outputId": "f4e57fb9-43d8-40ed-9693-a1f6e13733a4"
      },
      "execution_count": null,
      "outputs": [
        {
          "execution_count": 36,
          "output_type": "execute_result",
          "data": {
            "text/plain": "SiamUnet_diff(\n  (conv11): Conv2d(1, 16, kernel_size=(3, 3), stride=(1, 1), padding=(1, 1))\n  (bn11): BatchNorm2d(16, eps=1e-05, momentum=0.1, affine=True, track_running_stats=True)\n  (do11): Dropout2d(p=0.2, inplace=False)\n  (conv12): Conv2d(16, 16, kernel_size=(3, 3), stride=(1, 1), padding=(1, 1))\n  (bn12): BatchNorm2d(16, eps=1e-05, momentum=0.1, affine=True, track_running_stats=True)\n  (do12): Dropout2d(p=0.2, inplace=False)\n  (conv21): Conv2d(16, 32, kernel_size=(3, 3), stride=(1, 1), padding=(1, 1))\n  (bn21): BatchNorm2d(32, eps=1e-05, momentum=0.1, affine=True, track_running_stats=True)\n  (do21): Dropout2d(p=0.2, inplace=False)\n  (conv22): Conv2d(32, 32, kernel_size=(3, 3), stride=(1, 1), padding=(1, 1))\n  (bn22): BatchNorm2d(32, eps=1e-05, momentum=0.1, affine=True, track_running_stats=True)\n  (do22): Dropout2d(p=0.2, inplace=False)\n  (conv31): Conv2d(32, 64, kernel_size=(3, 3), stride=(1, 1), padding=(1, 1))\n  (bn31): BatchNorm2d(64, eps=1e-05, momentum=0.1, affine=True, track_running_stats=True)\n  (do31): Dropout2d(p=0.2, inplace=False)\n  (conv32): Conv2d(64, 64, kernel_size=(3, 3), stride=(1, 1), padding=(1, 1))\n  (bn32): BatchNorm2d(64, eps=1e-05, momentum=0.1, affine=True, track_running_stats=True)\n  (do32): Dropout2d(p=0.2, inplace=False)\n  (conv33): Conv2d(64, 64, kernel_size=(3, 3), stride=(1, 1), padding=(1, 1))\n  (bn33): BatchNorm2d(64, eps=1e-05, momentum=0.1, affine=True, track_running_stats=True)\n  (do33): Dropout2d(p=0.2, inplace=False)\n  (conv41): Conv2d(64, 128, kernel_size=(3, 3), stride=(1, 1), padding=(1, 1))\n  (bn41): BatchNorm2d(128, eps=1e-05, momentum=0.1, affine=True, track_running_stats=True)\n  (do41): Dropout2d(p=0.2, inplace=False)\n  (conv42): Conv2d(128, 128, kernel_size=(3, 3), stride=(1, 1), padding=(1, 1))\n  (bn42): BatchNorm2d(128, eps=1e-05, momentum=0.1, affine=True, track_running_stats=True)\n  (do42): Dropout2d(p=0.2, inplace=False)\n  (conv43): Conv2d(128, 128, kernel_size=(3, 3), stride=(1, 1), padding=(1, 1))\n  (bn43): BatchNorm2d(128, eps=1e-05, momentum=0.1, affine=True, track_running_stats=True)\n  (do43): Dropout2d(p=0.2, inplace=False)\n  (upconv4): ConvTranspose2d(128, 128, kernel_size=(3, 3), stride=(2, 2), padding=(1, 1), output_padding=(1, 1))\n  (conv43d): ConvTranspose2d(256, 128, kernel_size=(3, 3), stride=(1, 1), padding=(1, 1))\n  (bn43d): BatchNorm2d(128, eps=1e-05, momentum=0.1, affine=True, track_running_stats=True)\n  (do43d): Dropout2d(p=0.2, inplace=False)\n  (conv42d): ConvTranspose2d(128, 128, kernel_size=(3, 3), stride=(1, 1), padding=(1, 1))\n  (bn42d): BatchNorm2d(128, eps=1e-05, momentum=0.1, affine=True, track_running_stats=True)\n  (do42d): Dropout2d(p=0.2, inplace=False)\n  (conv41d): ConvTranspose2d(128, 64, kernel_size=(3, 3), stride=(1, 1), padding=(1, 1))\n  (bn41d): BatchNorm2d(64, eps=1e-05, momentum=0.1, affine=True, track_running_stats=True)\n  (do41d): Dropout2d(p=0.2, inplace=False)\n  (upconv3): ConvTranspose2d(64, 64, kernel_size=(3, 3), stride=(2, 2), padding=(1, 1), output_padding=(1, 1))\n  (conv33d): ConvTranspose2d(128, 64, kernel_size=(3, 3), stride=(1, 1), padding=(1, 1))\n  (bn33d): BatchNorm2d(64, eps=1e-05, momentum=0.1, affine=True, track_running_stats=True)\n  (do33d): Dropout2d(p=0.2, inplace=False)\n  (conv32d): ConvTranspose2d(64, 64, kernel_size=(3, 3), stride=(1, 1), padding=(1, 1))\n  (bn32d): BatchNorm2d(64, eps=1e-05, momentum=0.1, affine=True, track_running_stats=True)\n  (do32d): Dropout2d(p=0.2, inplace=False)\n  (conv31d): ConvTranspose2d(64, 32, kernel_size=(3, 3), stride=(1, 1), padding=(1, 1))\n  (bn31d): BatchNorm2d(32, eps=1e-05, momentum=0.1, affine=True, track_running_stats=True)\n  (do31d): Dropout2d(p=0.2, inplace=False)\n  (upconv2): ConvTranspose2d(32, 32, kernel_size=(3, 3), stride=(2, 2), padding=(1, 1), output_padding=(1, 1))\n  (conv22d): ConvTranspose2d(64, 32, kernel_size=(3, 3), stride=(1, 1), padding=(1, 1))\n  (bn22d): BatchNorm2d(32, eps=1e-05, momentum=0.1, affine=True, track_running_stats=True)\n  (do22d): Dropout2d(p=0.2, inplace=False)\n  (conv21d): ConvTranspose2d(32, 16, kernel_size=(3, 3), stride=(1, 1), padding=(1, 1))\n  (bn21d): BatchNorm2d(16, eps=1e-05, momentum=0.1, affine=True, track_running_stats=True)\n  (do21d): Dropout2d(p=0.2, inplace=False)\n  (upconv1): ConvTranspose2d(16, 16, kernel_size=(3, 3), stride=(2, 2), padding=(1, 1), output_padding=(1, 1))\n  (conv12d): ConvTranspose2d(32, 16, kernel_size=(3, 3), stride=(1, 1), padding=(1, 1))\n  (bn12d): BatchNorm2d(16, eps=1e-05, momentum=0.1, affine=True, track_running_stats=True)\n  (do12d): Dropout2d(p=0.2, inplace=False)\n  (conv11d): ConvTranspose2d(16, 1, kernel_size=(3, 3), stride=(1, 1), padding=(1, 1))\n  (sm): Sigmoid()\n)"
          },
          "metadata": {}
        }
      ]
    },
    {
      "cell_type": "code",
      "source": [
        "def val_model(model):\n",
        "    iou_list = []\n",
        "    for batch_index, batch in enumerate(tqdm(dataloaders['valid'])):\n",
        "        I1 = Variable(batch['I1'].float().to(device))\n",
        "        I2 = Variable(batch['I2'].float().to(device))\n",
        "        labels = Variable(batch['label'].int().to(device))\n",
        "        outputs = model(I1,I2)\n",
        "        iou_list.append(iou_pytorch(outputs.int().to('cpu'), labels.to('cpu')))\n",
        "    print(np.mean(iou_list))"
      ],
      "metadata": {
        "execution": {
          "iopub.status.busy": "2021-08-28T06:33:38.841801Z",
          "iopub.execute_input": "2021-08-28T06:33:38.842134Z",
          "iopub.status.idle": "2021-08-28T06:33:38.848998Z",
          "shell.execute_reply.started": "2021-08-28T06:33:38.842105Z",
          "shell.execute_reply": "2021-08-28T06:33:38.848126Z"
        },
        "trusted": true,
        "id": "j7f6LTTMOmc6"
      },
      "execution_count": null,
      "outputs": []
    },
    {
      "cell_type": "code",
      "source": [
        "val_model(model)"
      ],
      "metadata": {
        "execution": {
          "iopub.status.busy": "2021-08-28T06:33:40.899606Z",
          "iopub.execute_input": "2021-08-28T06:33:40.899929Z",
          "iopub.status.idle": "2021-08-28T07:14:31.573833Z",
          "shell.execute_reply.started": "2021-08-28T06:33:40.899900Z",
          "shell.execute_reply": "2021-08-28T07:14:31.572752Z"
        },
        "trusted": true,
        "colab": {
          "referenced_widgets": [
            "75ab5d7f21cf4064b817c7f96b078c11"
          ]
        },
        "id": "10B8QFhJOmc6",
        "outputId": "66d08216-0255-4d84-accf-5bf604a8c9bc"
      },
      "execution_count": null,
      "outputs": [
        {
          "output_type": "display_data",
          "data": {
            "text/plain": "  0%|          | 0/8208 [00:00<?, ?it/s]",
            "application/vnd.jupyter.widget-view+json": {
              "version_major": 2,
              "version_minor": 0,
              "model_id": "75ab5d7f21cf4064b817c7f96b078c11"
            }
          },
          "metadata": {}
        },
        {
          "name": "stdout",
          "text": "0.8350038\n",
          "output_type": "stream"
        }
      ]
    },
    {
      "cell_type": "code",
      "source": [
        "batch = next(iter(dataloaders['valid']))\n",
        "n = np.random.randint(BATCH_SIZE)\n",
        "_, preds = torch.max(model(batch['I1'].cuda(),batch['I2'].cuda()).data,1)"
      ],
      "metadata": {
        "execution": {
          "iopub.status.busy": "2021-08-28T07:16:29.853735Z",
          "iopub.execute_input": "2021-08-28T07:16:29.854170Z",
          "iopub.status.idle": "2021-08-28T07:16:35.067740Z",
          "shell.execute_reply.started": "2021-08-28T07:16:29.854123Z",
          "shell.execute_reply": "2021-08-28T07:16:35.066708Z"
        },
        "trusted": true,
        "id": "wmRgXdwkOmc6"
      },
      "execution_count": null,
      "outputs": []
    },
    {
      "cell_type": "code",
      "source": [
        "fig, axs = plt.subplots(1,4)\n",
        "fig.suptitle('Random chip prediction')\n",
        "fig.tight_layout()\n",
        "axs[0].imshow(batch['I1'][n].squeeze())\n",
        "axs[1].imshow(batch['I2'][n].squeeze())\n",
        "axs[2].imshow(batch['label'][n].squeeze())\n",
        "axs[3].imshow(preds[n].cpu())"
      ],
      "metadata": {
        "execution": {
          "iopub.status.busy": "2021-08-28T07:16:35.069428Z",
          "iopub.execute_input": "2021-08-28T07:16:35.069764Z",
          "iopub.status.idle": "2021-08-28T07:16:35.588542Z",
          "shell.execute_reply.started": "2021-08-28T07:16:35.069732Z",
          "shell.execute_reply": "2021-08-28T07:16:35.587706Z"
        },
        "trusted": true,
        "id": "i4w4o1zZOmc6",
        "outputId": "5acbeff9-fe0a-4238-aa66-70f1ba2deac7"
      },
      "execution_count": null,
      "outputs": [
        {
          "execution_count": 44,
          "output_type": "execute_result",
          "data": {
            "text/plain": "<matplotlib.image.AxesImage at 0x7ff371816590>"
          },
          "metadata": {}
        },
        {
          "output_type": "display_data",
          "data": {
            "text/plain": "<Figure size 1800x1200 with 4 Axes>",
            "image/png": "[encoded data removed]"
          },
          "metadata": {
            "needs_background": "light"
          }
        }
      ]
    },
    {
      "cell_type": "code",
      "source": [
        "#torch.stack((datasets['train'][0]['I1'],datasets['train'][0]['I1']),axis = 1).squeeze().shape"
      ],
      "metadata": {
        "id": "OKtwyq8rOmc7"
      },
      "execution_count": null,
      "outputs": []
    },
    {
      "cell_type": "code",
      "source": [
        "batch = next(iter(dataloaders['valid']))\n",
        "n = np.random.randint(BATCH_SIZE)\n",
        "_, preds = torch.max(model(batch['I1'].cuda(),batch['I2'].cuda()).data,1)\n",
        "fig, axs = plt.subplots(1,4)\n",
        "fig.suptitle('Random chip prediction')\n",
        "fig.tight_layout()\n",
        "axs[0].imshow(batch['I1'][n].squeeze())\n",
        "axs[1].imshow(batch['I2'][n].squeeze())\n",
        "axs[2].imshow(batch['label'][n].squeeze())\n",
        "axs[3].imshow(preds[n].cpu())"
      ],
      "metadata": {
        "execution": {
          "iopub.status.busy": "2021-08-28T07:27:30.072479Z",
          "iopub.execute_input": "2021-08-28T07:27:30.072846Z",
          "iopub.status.idle": "2021-08-28T07:27:34.486124Z",
          "shell.execute_reply.started": "2021-08-28T07:27:30.072812Z",
          "shell.execute_reply": "2021-08-28T07:27:34.485266Z"
        },
        "trusted": true,
        "id": "h_yds8iUOmc7",
        "outputId": "adb50e89-8d98-4b78-867f-a098796b736c"
      },
      "execution_count": null,
      "outputs": [
        {
          "execution_count": 47,
          "output_type": "execute_result",
          "data": {
            "text/plain": "<matplotlib.image.AxesImage at 0x7ff37090ec90>"
          },
          "metadata": {}
        },
        {
          "output_type": "display_data",
          "data": {
            "text/plain": "<Figure size 1800x1200 with 4 Axes>",
            "image/png": "[encoded data removed]"
          },
          "metadata": {
            "needs_background": "light"
          }
        }
      ]
    },
    {
      "cell_type": "code",
      "source": [],
      "metadata": {
        "id": "ao-j2VsWOmc7"
      },
      "execution_count": null,
      "outputs": []
    }
  ]
}